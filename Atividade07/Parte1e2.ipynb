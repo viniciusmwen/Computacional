{
 "cells": [
  {
   "cell_type": "code",
   "execution_count": null,
   "id": "581f92d3",
   "metadata": {},
   "outputs": [],
   "source": [
    "import pandas as pd\n",
    "import numpy as np\n",
    "from skimage.io import imread,imshow,imsave\n",
    "from skimage.color import rgb2gray\n",
    "import Functions as fc\n",
    "import os\n",
    "from skimage.filters.rank import mean\n",
    "import matplotlib.pyplot as plt"
   ]
  },
  {
   "cell_type": "code",
   "execution_count": null,
   "id": "00c15ee2",
   "metadata": {},
   "outputs": [],
   "source": [
    "baseDeDados = './Imagens/DSFlowersV1/'"
   ]
  },
  {
   "cell_type": "code",
   "execution_count": null,
   "id": "ad3041d8",
   "metadata": {},
   "outputs": [],
   "source": [
    "flowers = fc.caminhos_dataset(baseDeDados)"
   ]
  },
  {
   "cell_type": "code",
   "execution_count": null,
   "id": "f3e0c2e1",
   "metadata": {},
   "outputs": [],
   "source": [
    "valores = [(7,1.0), (75,1.5), (77,2.0), (88,3.0)]"
   ]
  },
  {
   "cell_type": "code",
   "execution_count": null,
   "id": "695a8f4c",
   "metadata": {},
   "outputs": [],
   "source": [
    "for valor in valores:\n",
    "    for flower in flowers:\n",
    "        flowerCaminho = flower.replace(baseDeDados,\"\")  \n",
    "        nomePasta1 = 'alargamento'+str(valor[0])+str(int(valor[1]))\n",
    "        nomePasta2 = 'otsu'+'A'+str(valor[0])+str(int(valor[1]))\n",
    "        # print(flowerCaminho)\n",
    "        # print(nomePasta)\n",
    "        caminho1,nomeFlower = fc.montaPasta(nomePasta1,flowerCaminho)\n",
    "        caminho2, _ = fc.montaPasta(nomePasta2,flowerCaminho)\n",
    "        if os.path.isdir(caminho1):\n",
    "            imagem = fc.aplicaAlargamento(baseDeDados+flowerCaminho,valor[0],valor[1])\n",
    "            imagem_otsu = fc.aplicaOtsu(imagem)\n",
    "            plt.imsave(caminho1+nomeFlower,imagem,cmap=plt.cm.gray)\n",
    "            plt.imsave(caminho2+nomeFlower,imagem_otsu,cmap=plt.cm.gray)\n",
    "        else:\n",
    "            os.makedirs(caminho1)\n",
    "            os.makedirs(caminho2)\n",
    "            imagem = fc.aplicaAlargamento(baseDeDados+flowerCaminho,valor[0],valor[1])\n",
    "            plt.imsave(caminho1+nomeFlower,imagem,cmap=plt.cm.gray)\n",
    "            plt.imsave(caminho2+nomeFlower,imagem_otsu,cmap=plt.cm.gray)"
   ]
  },
  {
   "cell_type": "code",
   "execution_count": null,
   "id": "64bfdd16",
   "metadata": {},
   "outputs": [],
   "source": []
  }
 ],
 "metadata": {
  "kernelspec": {
   "display_name": "Python 3 (ipykernel)",
   "language": "python",
   "name": "python3"
  },
  "language_info": {
   "codemirror_mode": {
    "name": "ipython",
    "version": 3
   },
   "file_extension": ".py",
   "mimetype": "text/x-python",
   "name": "python",
   "nbconvert_exporter": "python",
   "pygments_lexer": "ipython3",
   "version": "3.8.10"
  }
 },
 "nbformat": 4,
 "nbformat_minor": 5
}
