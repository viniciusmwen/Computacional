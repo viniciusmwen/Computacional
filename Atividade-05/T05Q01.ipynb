{
 "cells": [
  {
   "cell_type": "markdown",
   "id": "eae63bc0",
   "metadata": {},
   "source": [
    "1) Crie um algoritmo que implemente filtros de convolução. O algoritmo deverá receber como parâmetro a imagem a ser processada, o filtro e o tratamento a ser feito na borda. A função, obrigatoriamente, deverá seguir a seguinte nomenclatura:"
   ]
  },
  {
   "attachments": {
    "I01.png": {
     "image/png": "[encoded data removed]"
    }
   },
   "cell_type": "markdown",
   "id": "fcced88f",
   "metadata": {},
   "source": [
    "![I01.png](attachment:I01.png)"
   ]
  },
  {
   "cell_type": "code",
   "execution_count": null,
   "id": "a24ba087",
   "metadata": {},
   "outputs": [],
   "source": [
    "import cv2\n",
    "import matplotlib.pyplot as plt\n",
    "import numpy as np\n",
    "import pandas as pd\n",
    "from skimage.color import rgb2gray\n",
    "from skimage.io import imread, imsave, imshow"
   ]
  },
  {
   "cell_type": "code",
   "execution_count": null,
   "id": "553cc756",
   "metadata": {},
   "outputs": [],
   "source": [
    "filtroLaplaciano = {\n",
    "    'M': 3,\n",
    "    'N': 3,\n",
    "    'nome': 'Laplaciano',\n",
    "    'filtro': np.array([[-1,-1,-1],[-1,8,-1],[-1,-1,-1]])\n",
    "}"
   ]
  },
  {
   "cell_type": "code",
   "execution_count": null,
   "id": "84073007",
   "metadata": {},
   "outputs": [],
   "source": [
    "filtroMedia = {\n",
    "    'M': 3,\n",
    "    'N': 3,\n",
    "    'nome': 'Media',\n",
    "    'filtro': np.ones((3,3))/9\n",
    "}"
   ]
  },
  {
   "cell_type": "code",
   "execution_count": null,
   "id": "28ce4980",
   "metadata": {},
   "outputs": [],
   "source": [
    "filtroGaussiano = {\n",
    "    'M': 5,\n",
    "    'N': 5,\n",
    "    'nome': 'Gaussiano',\n",
    "    'filtro': np.array([[1,4,7,4,1], \n",
    "                        [4,16,26,16,4], \n",
    "                        [7,26,41,26,7],\n",
    "                        [4,16,26,16,4],\n",
    "                        [1,4,7,4,1]])\n",
    "}"
   ]
  },
  {
   "cell_type": "code",
   "execution_count": null,
   "id": "201fcdc3",
   "metadata": {},
   "outputs": [],
   "source": [
    "filtroPrewitt = {\n",
    "    'M':3,\n",
    "    'N':3,\n",
    "    'nome':'Prewitt',\n",
    "    'horizontal':np.array([[-1, 0, 1], [-1, 0, 1], [-1, 0, 1]]),\n",
    "    'vertical':np.array([[-1, -1, -1], [0, 0, 0], [1, 1, 1]])\n",
    "}"
   ]
  },
  {
   "cell_type": "code",
   "execution_count": null,
   "id": "b5ee9867",
   "metadata": {},
   "outputs": [],
   "source": [
    "filtroSobel = {\n",
    "    'M':3,\n",
    "    'N':3,\n",
    "    'nome':'Sobel',\n",
    "    'horizontal': np.array([[-1, 0, 1], [-2, 0, 2], [-1, 0, 1]]),\n",
    "    'vertical': np.array([[-1, -2, -1], [0, 0, 0], [1, 2, 1]])\n",
    "}"
   ]
  },
  {
   "cell_type": "markdown",
   "id": "4295c01f",
   "metadata": {},
   "source": [
    "A imagem poderá ser colorida ou em tons de cinza. No caso de imagens coloridas, o processamento deverá ser feito em cada banda de cor o resultado será retornado em uma única imagem;"
   ]
  },
  {
   "cell_type": "code",
   "execution_count": null,
   "id": "7681ec1f",
   "metadata": {},
   "outputs": [],
   "source": [
    "Imagem = imread('Imagem.jpg')\n",
    "Imagem = rgb2gray(Imagem)\n",
    "imagem_nova = imread('Imagem-01.jpg')\n",
    "imagem_nova = rgb2gray(imagem_nova)"
   ]
  },
  {
   "cell_type": "code",
   "execution_count": null,
   "id": "f3fbb554",
   "metadata": {},
   "outputs": [],
   "source": [
    "imshow(Imagem)"
   ]
  },
  {
   "cell_type": "code",
   "execution_count": null,
   "id": "4e16f241",
   "metadata": {},
   "outputs": [],
   "source": [
    "def quebralista(lista, n):\n",
    "    for i in range(0,len(lista),n):\n",
    "        yield lista[i:i + n]"
   ]
  },
  {
   "cell_type": "code",
   "execution_count": null,
   "id": "26515cfd",
   "metadata": {},
   "outputs": [],
   "source": [
    "def janelaignorada(imagem,i,j,m,n,t):\n",
    "    if t == -1:\n",
    "        altura, largura = imagem.shape\n",
    "    else:\n",
    "        altura, largura, _ = imagem.shape\n",
    "    janela = []    \n",
    "    a = int((m-1)/2)\n",
    "    b = int((n-1)/2)\n",
    "    new_a = a*(-1)\n",
    "    new_b = b*(-1)\n",
    "    for x in range(m):\n",
    "        b = new_b\n",
    "        for y in range(n):\n",
    "            i_atual = i+new_a\n",
    "            j_atual = j+b\n",
    "            if t != -1:\n",
    "                janela.append(imagem[i_atual][j_atual][t])\n",
    "            else:\n",
    "                janela.append(imagem[i_atual][j_atual])\n",
    "            b+=1\n",
    "        new_a+=1\n",
    "    janela = list(quebralista(janela,n))\n",
    "    janela = np.array(janela)\n",
    "    return janela"
   ]
  },
  {
   "cell_type": "code",
   "execution_count": null,
   "id": "9a6f7ae1",
   "metadata": {},
   "outputs": [],
   "source": [
    "def janelapadding(imagem,i,j,m,n,t):\n",
    "    if t == -1:\n",
    "        altura, largura = imagem.shape\n",
    "    else:\n",
    "        altura, largura, _ = imagem.shape\n",
    "    janela = []    \n",
    "    a = int((m-1)/2)\n",
    "    b = int((n-1)/2)\n",
    "    new_a = a*(-1)\n",
    "    new_b = b*(-1)\n",
    "    for x in range(m):\n",
    "        b = new_b\n",
    "        for y in range(n):\n",
    "            i_atual = i+a\n",
    "            j_atual = j+b   \n",
    "            if (i_atual > -1 and  j_atual > -1) and (i_atual < altura and j_atual < largura):\n",
    "                if t != -1:\n",
    "                    janela.append(imagem[i_atual][j_atual][t])\n",
    "                else:\n",
    "                    janela.append(imagem[i_atual][j_atual])\n",
    "            else:\n",
    "                janela.append(0)\n",
    "            b += 1\n",
    "        a += 1\n",
    "    janela = list(quebralista(janela,n))\n",
    "    janela = np.array(janela)\n",
    "    return janela  "
   ]
  },
  {
   "cell_type": "code",
   "execution_count": null,
   "id": "674f831a",
   "metadata": {},
   "outputs": [],
   "source": [
    "def janelareplicada(imagem,i,j,m,n,t):\n",
    "    if t == -1:\n",
    "        altura, largura = imagem.shape\n",
    "    else:\n",
    "        altura, largura, _ = imagem.shape\n",
    "    janela = []    \n",
    "    a = int((m-1)/2)\n",
    "    b = int((n-1)/2)\n",
    "    new_a = a*(-1)\n",
    "    new_b = b*(-1)   \n",
    "    for x in range(m):\n",
    "        b = new_b\n",
    "        for y in range(n):\n",
    "            i_atual = i+new_a\n",
    "            j_atual = j+b   \n",
    "            if i_atual < 0: i_atual = 0\n",
    "            elif i_atual >= altura: i_atual = altura-1\n",
    "            if j_atual < 0: j_atual = 0\n",
    "            elif j_atual >= largura: j_atual = largura-1\n",
    "            if t == -1: janela.append(imagem[i_atual][j_atual])\n",
    "            else: janela.append(imagem[i_atual][j_atual][t])\n",
    "            b += 1\n",
    "        new_a += 1\n",
    "    janela = list(quebralista(janela,n))\n",
    "    janela = np.array(janela)\n",
    "    return janela"
   ]
  },
  {
   "cell_type": "code",
   "execution_count": null,
   "id": "f7319a14",
   "metadata": {},
   "outputs": [],
   "source": [
    "def janelaespelhada(imagem,i,j,m,n,t):\n",
    "    if t == -1:\n",
    "        altura, largura = imagem.shape\n",
    "    else:\n",
    "        altura, largura, _ = Imagem.shape\n",
    "    janela = []    \n",
    "    a = int((m-1)/2)\n",
    "    b = int((n-1)/2)\n",
    "    new_a = a*(-1)\n",
    "    new_b = b*(-1)   \n",
    "    for x in range(m):\n",
    "        b = new_b\n",
    "        for y in range(m):\n",
    "            i_atual = i+new_a\n",
    "            j_atual = j+b   \n",
    "            if i_atual < 0: i_atual = altura+i_atual\n",
    "            elif i_atual >= altura: i_atual = i_atual-altura\n",
    "            if j_atual < 0: j_atual = largura+j_atual\n",
    "            elif j_atual >= largura: j_atual = j_atual-largura\n",
    "            if t == -1: janela.append(Imagem[i_atual][j_atual])\n",
    "            else: janela.append(Imagem[i_atual][j_atual][t])\n",
    "            b += 1\n",
    "        new_a += 1 \n",
    "    janela = list(quebralista(janela,n))\n",
    "    janela = np.array(janela)\n",
    "    print(janela)\n",
    "    return janela"
   ]
  },
  {
   "cell_type": "code",
   "execution_count": null,
   "id": "5721e7a2",
   "metadata": {},
   "outputs": [],
   "source": [
    "def imagemrgb(imagem,filtro,borda='ignore'):\n",
    "    altura, largura, dimensao = imagem.shape\n",
    "    resultados = []\n",
    "    imagem_nova = np.zeros((altura,largura,3),'uint8')\n",
    "    if borda != 'ignore':\n",
    "        for I in range(altura):\n",
    "                for J in range(largura):\n",
    "                    for D in range(dimensao):\n",
    "                        if borda == 'padding':\n",
    "                            pixel = janelapadding(Imagem,I,J,filtro['M'],filtro['N'],D)\n",
    "                        elif borda == 'espelho':\n",
    "                            pixel = janelaespelhada(Imagem,I,J,filtro['M'],filtro['N'],D)\n",
    "                        elif borda == 'replicar':\n",
    "                            pixel = janelareplicada(Imagem,I,J,filtro['M'],filtro['N'],D)\n",
    "                        else: \n",
    "                            pass\n",
    "                        if filtro['nome'] == 'Prewitt' or filtro['nome'] == 'Sobel':\n",
    "                            Horizontal = np.sum(filtro['horizontal']*pixel)\n",
    "                            Vertical = np.sum(filtro['vertical']*pixel)\n",
    "                            Resultado = np.sqrt(pow(Horizontal,2.0)+pow(Vertical,2.0))\n",
    "                            imagem_nova[I][J][D] = Resultado\n",
    "                        else:\n",
    "                            imagem_nova[I][J][D] = np.sum(filtro['filtro']*pixel)\n",
    "    else:\n",
    "        a = int((filtro['M']-1)/2)\n",
    "        b = int((filtro['N']-1)/2)\n",
    "        for I in range(a,altura-a):\n",
    "            for J in range(b,largura-b):\n",
    "                for D in range(dimensao):\n",
    "                    pixel = janelaignorada(Imagem,I,J,filtro['M'],filtro['N'],D)\n",
    "                    if filtro['nome'] == 'Prewitt' or filtro['nome'] == 'Sobel':\n",
    "                        Horizontal = np.sum(filtro['horizontal']*pixel)\n",
    "                        Vertical = np.sum(filtro['vertical']*pixel)\n",
    "                        Resultado = np.sqrt(pow(Horizontal,2.0)+pow(Vertical,2.0))\n",
    "                        imagem_nova[I][J][D] = Resultado\n",
    "                    else:\n",
    "                        imagem_nova[I][J][D] = np.sum(filtro['filtro']*pixel)\n",
    "        \n",
    "    return imagem_nova"
   ]
  },
  {
   "cell_type": "code",
   "execution_count": null,
   "id": "b13ef4a3",
   "metadata": {},
   "outputs": [],
   "source": [
    "def imagemgray(imagem,filtro,borda='ignore'):\n",
    "    altura, largura = imagem.shape\n",
    "    resultados = []\n",
    "    # ignore\n",
    "    if borda == 'ignore':\n",
    "        a = int((filtro['M']-1)/2)\n",
    "        b = int((filtro['N']-1)/2)\n",
    "        for I in range(a,altura-a):\n",
    "            for J in range(b,largura-b):\n",
    "                pixel = janelaignorada(imagem,I,J,filtro['M'],filtro['N'],-1)\n",
    "                if filtro['nome'] == 'Prewitt':\n",
    "                    H = np.sum(filtro['horizontal']*pixel)\n",
    "                    V = np.sum(filtro['vertical']*pixel)\n",
    "                    R = np.sqrt(pow(H,2.0) + pow(V, 2.0))\n",
    "                    imagem_nova[I][J] = R\n",
    "                elif filtro['nome'] == 'Sobel':\n",
    "                    H = np.sum(filtro['horizontal']*pixel)\n",
    "                    V = np.sum(filtro['vertical']*pixel)\n",
    "                    R = np.sqrt(pow(H,2.0)+pow(V,2.0))\n",
    "                    imagem_nova[I][J] = R\n",
    "                else:\n",
    "                    imagem_nova[I][J] = np.sum(pixel*filtro['filtro'])\n",
    "    #\n",
    "    elif borda == 'padding':\n",
    "        for I in range(altura):\n",
    "            for J in range(largura):\n",
    "                pixel = janelapadding(imagem,I,J,filtro['M'],filtro['N'],-1)\n",
    "                if filtro['nome'] == 'Prewitt':\n",
    "                    H = np.sum(filtro['horizontal']*pixel)\n",
    "                    V = np.sum(filtro['vertical']*pixel)\n",
    "                    R = np.sqrt(pow(H,2.0) + pow(V, 2.0))\n",
    "                    imagem_nova[I][J] = R\n",
    "                elif filtro['nome'] == 'Sobel':\n",
    "                    H = np.sum(filtro['horizontal']*pixel)\n",
    "                    V = np.sum(filtro['vertical']*pixel)\n",
    "                    R = np.sqrt(pow(H,2.0)+pow(V,2.0))\n",
    "                    imagem_nova[I][J] = R\n",
    "                else:\n",
    "                    imagem_nova[I][J] = np.sum(pixel*filtro['filtro'])\n",
    "    #\n",
    "    elif borda == 'espelho':\n",
    "        for I in range(altura):\n",
    "            for J in range(largura):\n",
    "                pixel = janelaespelhada(imagem,I,J,filtro['M'],filtro['N'],-1)\n",
    "                if filtro['nome'] == 'Prewitt':\n",
    "                    H = np.sum(filtro['horizontal']*pixel)\n",
    "                    V = np.sum(filtro['vertical']*pixel)\n",
    "                    R = np.sqrt(pow(H,2.0) + pow(V, 2.0))\n",
    "                    imagem_nova[I][J] = R\n",
    "                elif filtro['nome'] == 'Sobel':\n",
    "                    H = np.sum(filtro['horizontal']*pixel)\n",
    "                    V = np.sum(filtro['vertical']*pixel)\n",
    "                    R = np.sqrt(pow(H,2.0)+pow(V,2.0))\n",
    "                    imagem_nova[I][J] = R\n",
    "                else:\n",
    "                    imagem_nova[I][J] = np.sum(pixel*filtro['filtro'])\n",
    "    #\n",
    "    elif borda == 'replicar':\n",
    "        for I in range(altura):\n",
    "            for J in range(largura):\n",
    "                pixel = janelareplicada(imagem,I,J,filtro['M'],filtro['N'],-1)\n",
    "                if filtro['nome'] == 'Prewitt':\n",
    "                    H = np.sum(filtro['horizontal']*pixel)\n",
    "                    V = np.sum(filtro['vertical']*pixel)\n",
    "                    R = np.sqrt(pow(H,2.0) + pow(V, 2.0))\n",
    "                    imagem_nova[I][J] = R\n",
    "                elif filtro['nome'] == 'Sobel':\n",
    "                    H = np.sum(filtro['horizontal']*pixel)\n",
    "                    V = np.sum(filtro['vertical']*pixel)\n",
    "                    R = np.sqrt(pow(H,2.0)+pow(V,2.0))\n",
    "                    imagem_nova[I][J] = R\n",
    "                else:\n",
    "                    imagem_nova[I][J] = np.sum(pixel*filtro['filtro'])\n",
    "    return imagem_nova"
   ]
  },
  {
   "cell_type": "code",
   "execution_count": null,
   "id": "0d657037",
   "metadata": {},
   "outputs": [],
   "source": [
    "def convolucao(imagem,filtro,borda='ignore'):\n",
    "    # Verifica se a imagem é colorida ou não.\n",
    "    if len(imagem.shape) == 3:\n",
    "        imagem_processada = imagemrgb(imagem,filtro,borda)\n",
    "    else: \n",
    "        imagem_processada = imagemgray(imagem,filtro,borda)\n",
    "    return imagem_processada"
   ]
  },
  {
   "cell_type": "code",
   "execution_count": null,
   "id": "23fcf9fc",
   "metadata": {},
   "outputs": [],
   "source": [
    "filtros = [filtroLaplaciano,filtroMedia,filtroGaussiano,filtroSobel,filtroPrewitt]\n",
    "xbordas = ['espelho','replicar','padding']\n",
    "imagens = [Imagem]"
   ]
  },
  {
   "cell_type": "code",
   "execution_count": null,
   "id": "65cf9aa0",
   "metadata": {},
   "outputs": [],
   "source": [
    "I = 0\n",
    "for img in imagens:\n",
    "    for fil in filtros:\n",
    "        for bor in xbordas:\n",
    "            x = convolucao(img,fil,bor)\n",
    "            imsave('imagem'+str(I)+'.jpg',x)\n",
    "            I+=1"
   ]
  },
  {
   "cell_type": "code",
   "execution_count": null,
   "id": "8f2a46ae",
   "metadata": {},
   "outputs": [],
   "source": [
    "x = convolucao(Imagem,filtroLaplaciano,'ignore')"
   ]
  },
  {
   "cell_type": "code",
   "execution_count": null,
   "id": "d8d47bc0",
   "metadata": {},
   "outputs": [],
   "source": [
    "imshow(Imagem+imagem_nova)"
   ]
  },
  {
   "cell_type": "code",
   "execution_count": null,
   "id": "51f9170f",
   "metadata": {},
   "outputs": [],
   "source": [
    "imsave('Nova.jpg',imagem_nova)"
   ]
  },
  {
   "cell_type": "code",
   "execution_count": null,
   "id": "b909bb07",
   "metadata": {},
   "outputs": [],
   "source": []
  }
 ],
 "metadata": {
  "kernelspec": {
   "display_name": "Python 3 (ipykernel)",
   "language": "python",
   "name": "python3"
  },
  "language_info": {
   "codemirror_mode": {
    "name": "ipython",
    "version": 3
   },
   "file_extension": ".py",
   "mimetype": "text/x-python",
   "name": "python",
   "nbconvert_exporter": "python",
   "pygments_lexer": "ipython3",
   "version": "3.8.10"
  }
 },
 "nbformat": 4,
 "nbformat_minor": 5
}
