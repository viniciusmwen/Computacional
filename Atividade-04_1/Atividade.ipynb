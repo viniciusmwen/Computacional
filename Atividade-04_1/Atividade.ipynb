{
 "cells": [
  {
   "attachments": {},
   "cell_type": "markdown",
   "metadata": {},
   "source": [
    "# Bibliotecas"
   ]
  },
  {
   "cell_type": "code",
   "execution_count": 50,
   "metadata": {},
   "outputs": [],
   "source": [
    "import numpy as np\n",
    "import matplotlib.pyplot as plt\n",
    "import pandas as pd\n",
    "from skimage.io import imread,imsave,imshow\n",
    "from skimage.color import rgb2gray\n",
    "from skimage import color\n",
    "from scipy.stats import norm, kurtosis, entropy, skew\n",
    "from skimage.feature import graycoprops,graycomatrix\n",
    "import cv2\n",
    "from glob import glob\n",
    "import os\n",
    "import csv\n",
    "import plotly.express as px\n",
    "from sklearn.model_selection import train_test_split\n",
    "from sklearn.neural_network import MLPClassifier as mlp\n",
    "from sklearn.metrics import accuracy_score as acc\n",
    "import math\n",
    "import random\n",
    "from tqdm import tqdm\n",
    "from skimage.transform import resize\n",
    "from skimage import img_as_ubyte, img_as_uint\n",
    "from sklearn.svm import SVC\n",
    "import xgboost as xgb\n",
    "import seaborn as sns\n",
    "from skimage.exposure import histogram\n",
    "from sklearn.ensemble import RandomForestClassifier as rfc\n",
    "from sklearn.model_selection import train_test_split\n",
    "from sklearn.neural_network import MLPClassifier as mlp\n",
    "from sklearn.metrics import accuracy_score as acc\n",
    "from sklearn.model_selection import cross_val_score # Cross Validation Function.\n",
    "from sklearn.model_selection import KFold # KFold Class.\n",
    "from sklearn.linear_model import LinearRegression # Linear Regression class."
   ]
  },
  {
   "attachments": {},
   "cell_type": "markdown",
   "metadata": {},
   "source": [
    "# Montar o Dataset"
   ]
  },
  {
   "cell_type": "code",
   "execution_count": 2,
   "id": "50d2d63d",
   "metadata": {},
   "outputs": [],
   "source": [
    "# resolução das imagens\n",
    "altura = 240\n",
    "largura = 240"
   ]
  },
  {
   "cell_type": "code",
   "execution_count": 3,
   "id": "ae13ddd2",
   "metadata": {},
   "outputs": [],
   "source": [
    "def Ler_Cinza(imagem):\n",
    "    # Função para realizar a leitura de uma imagem e retornar a imagem cinza.\n",
    "    img = cv2.imread(imagem,0)\n",
    "    return img, cv2.resize(img, (largura, altura))"
   ]
  },
  {
   "attachments": {},
   "cell_type": "markdown",
   "id": "becfef10",
   "metadata": {},
   "source": [
    "# Histograma e Estatísticas"
   ]
  },
  {
   "cell_type": "code",
   "execution_count": 9,
   "id": "2d163ccf",
   "metadata": {},
   "outputs": [],
   "source": [
    "def Retorna_Histograma(Imagem):  \n",
    "    # Função para retornar o histograma de uma imagem.\n",
    "    Linhas, Colunas = Imagem.shape\n",
    "    Array = []\n",
    "    Valores = []\n",
    "    for I in range(256):\n",
    "        Array.append(0)\n",
    "        Valores.append(I)\n",
    "    for L in range(Linhas):\n",
    "        for C in range(Colunas):\n",
    "            # print(Imagem[L][C])\n",
    "            Array[int(Imagem[L][C])] += 1   \n",
    "    return [Array,Valores]"
   ]
  },
  {
   "cell_type": "code",
   "execution_count": 10,
   "id": "b3f73ff6",
   "metadata": {},
   "outputs": [],
   "source": [
    "def Descritor_Histograma(imagem):\n",
    "    Histograma = Retorna_Histograma(imagem)\n",
    "    histograma2 = histogram(imagem, nbins=256)\n",
    "\n",
    "    media = np.mean(histograma2[0])\n",
    "    variancia = np.var(Histograma[0])\n",
    "    s = skew(Histograma[0])\n",
    "    kur = kurtosis(Histograma[0])\n",
    "    good = graycomatrix(imagem,[0],[0]) # Energia\n",
    "    ener = graycoprops(good,'energy')\n",
    "    ent = entropy(Histograma[0])\n",
    "    return {\n",
    "        'histograma': Histograma[0], \n",
    "        'media': media, \n",
    "        'var': variancia,\n",
    "        'skewness': s, \n",
    "        'kurtosis': kur, \n",
    "        'energy': ener[0][0], \n",
    "        'entropy': ent}"
   ]
  },
  {
   "attachments": {},
   "cell_type": "markdown",
   "id": "28cc97f2",
   "metadata": {},
   "source": [
    "# Leitura do DataSet"
   ]
  },
  {
   "cell_type": "code",
   "execution_count": 11,
   "id": "c2720c60",
   "metadata": {},
   "outputs": [],
   "source": [
    "def contabilizaTamanhos(dataset):\n",
    "    tamanhos = {'total': 0}\n",
    "    for classe in dataset:\n",
    "        tamanhos[classe] = len(dataset[classe])\n",
    "        tamanhos['total'] += len(dataset[classe])\n",
    "    dataset['tamanhos'] = tamanhos\n",
    "    return dataset"
   ]
  },
  {
   "cell_type": "code",
   "execution_count": 23,
   "id": "853878fa",
   "metadata": {},
   "outputs": [],
   "source": [
    "def lerDataset():\n",
    "    dataset = {}\n",
    "    for classe in os.listdir(os.path.join('..', 'flowers(novas)')):\n",
    "        dataset[classe] = glob(f\"{os.path.join('..', 'flowers(novas)')}/{classe}/*\", recursive=True)\n",
    "\n",
    "    dataset = contabilizaTamanhos(dataset)\n",
    "    \n",
    "    return dataset"
   ]
  },
  {
   "cell_type": "code",
   "execution_count": 24,
   "id": "f47a9903",
   "metadata": {},
   "outputs": [],
   "source": [
    "dataset = lerDataset()"
   ]
  },
  {
   "cell_type": "code",
   "execution_count": 33,
   "metadata": {},
   "outputs": [
    {
     "data": {
      "text/plain": [
       "{'total': 500,\n",
       " 'daisy': 100,\n",
       " 'sunflower': 100,\n",
       " 'tulip': 100,\n",
       " 'rose': 100,\n",
       " 'dandelion': 100}"
      ]
     },
     "execution_count": 33,
     "metadata": {},
     "output_type": "execute_result"
    }
   ],
   "source": [
    "dataset['tamanhos']"
   ]
  },
  {
   "cell_type": "code",
   "execution_count": 34,
   "metadata": {},
   "outputs": [
    {
     "data": {
      "text/plain": [
       "['../flowers(novas)/daisy/daisy-089.jpg',\n",
       " '../flowers(novas)/daisy/daisy-041.jpg',\n",
       " '../flowers(novas)/daisy/daisy-088.jpg',\n",
       " '../flowers(novas)/daisy/daisy-091.jpg',\n",
       " '../flowers(novas)/daisy/daisy-066.jpg',\n",
       " '../flowers(novas)/daisy/daisy-038.jpg',\n",
       " '../flowers(novas)/daisy/daisy-018.jpg',\n",
       " '../flowers(novas)/daisy/daisy-095.jpg',\n",
       " '../flowers(novas)/daisy/daisy-020.jpg',\n",
       " '../flowers(novas)/daisy/daisy-034.jpg']"
      ]
     },
     "execution_count": 34,
     "metadata": {},
     "output_type": "execute_result"
    }
   ],
   "source": [
    "dataset['daisy'][0:10] # Não preciso abrir todas as imagens, apenas ter os endereços para abrir quando precisar."
   ]
  },
  {
   "attachments": {},
   "cell_type": "markdown",
   "id": "3b7c94e7",
   "metadata": {},
   "source": [
    "# Criação da Matriz com os atributos calculados"
   ]
  },
  {
   "cell_type": "code",
   "execution_count": 35,
   "id": "679af53a",
   "metadata": {},
   "outputs": [],
   "source": [
    "def criaLinhaCsv(d, arquivo='matriz.csv'):\n",
    "    # ordem: nomeArq,largura,altura,media,variancia,skewness,kurtosis,energy,entropy,className,classId\n",
    "    linha = [d['img'], d['largura'], d['altura'], d['media'], d['var'], d['skewness'], d['kurtosis'], d['energy'], d['entropy'], d['classe'], d['classeId']]\n",
    "    \n",
    "    with open(arquivo, 'a') as csvFile:\n",
    "        writer = csv.writer(csvFile)\n",
    "        writer.writerow(linha)"
   ]
  },
  {
   "cell_type": "code",
   "execution_count": 36,
   "id": "e1ba21a1",
   "metadata": {},
   "outputs": [],
   "source": [
    "def criaMatriz(dataset, arquivo):\n",
    "    matriz = []\n",
    "    count = 0\n",
    "    for index, classe in enumerate(dataset):\n",
    "        print(f'Inserindo dados da classe {index} referente as {classe}')\n",
    "        for img in dataset[classe]:\n",
    "            if count < 4317:\n",
    "                imagem, imgRedim = Ler_Cinza(img)\n",
    "                descritor = Descritor_Histograma(imgRedim)\n",
    "                descritor['classe'] = classe\n",
    "                descritor['img'] = img\n",
    "                descritor['classeId'] = index\n",
    "                descritor['largura'], descritor['altura'] = imgRedim.shape\n",
    "\n",
    "                criaLinhaCsv(descritor, arquivo)\n",
    "                count += 1"
   ]
  },
  {
   "cell_type": "code",
   "execution_count": null,
   "id": "758052bc",
   "metadata": {},
   "outputs": [],
   "source": [
    "# Função que cria a matriz. Não vou executar pelo o tempo.\n",
    "criaMatriz(dataset, 'matriz.csv')"
   ]
  },
  {
   "cell_type": "code",
   "execution_count": 40,
   "id": "15f86c49",
   "metadata": {},
   "outputs": [],
   "source": [
    "matriz = pd.read_csv('matriz.csv')"
   ]
  },
  {
   "cell_type": "code",
   "execution_count": 43,
   "id": "d9ccd300",
   "metadata": {},
   "outputs": [
    {
     "data": {
      "text/html": [
       "<div>\n",
       "<style scoped>\n",
       "    .dataframe tbody tr th:only-of-type {\n",
       "        vertical-align: middle;\n",
       "    }\n",
       "\n",
       "    .dataframe tbody tr th {\n",
       "        vertical-align: top;\n",
       "    }\n",
       "\n",
       "    .dataframe thead th {\n",
       "        text-align: right;\n",
       "    }\n",
       "</style>\n",
       "<table border=\"1\" class=\"dataframe\">\n",
       "  <thead>\n",
       "    <tr style=\"text-align: right;\">\n",
       "      <th></th>\n",
       "      <th>nomeArq</th>\n",
       "      <th>largura</th>\n",
       "      <th>altura</th>\n",
       "      <th>media</th>\n",
       "      <th>variancia</th>\n",
       "      <th>skewness</th>\n",
       "      <th>kurtosis</th>\n",
       "      <th>energy</th>\n",
       "      <th>entropy</th>\n",
       "      <th>className</th>\n",
       "      <th>classId</th>\n",
       "    </tr>\n",
       "  </thead>\n",
       "  <tbody>\n",
       "    <tr>\n",
       "      <th>0</th>\n",
       "      <td>../flowers(novas)/daisy/daisy-089.jpg</td>\n",
       "      <td>240</td>\n",
       "      <td>240</td>\n",
       "      <td>259.459459</td>\n",
       "      <td>38336.164062</td>\n",
       "      <td>0.598410</td>\n",
       "      <td>-0.842847</td>\n",
       "      <td>0.082851</td>\n",
       "      <td>5.122266</td>\n",
       "      <td>daisy</td>\n",
       "      <td>0</td>\n",
       "    </tr>\n",
       "    <tr>\n",
       "      <th>1</th>\n",
       "      <td>../flowers(novas)/daisy/daisy-041.jpg</td>\n",
       "      <td>240</td>\n",
       "      <td>240</td>\n",
       "      <td>229.482072</td>\n",
       "      <td>254080.781250</td>\n",
       "      <td>5.120011</td>\n",
       "      <td>27.535038</td>\n",
       "      <td>0.153334</td>\n",
       "      <td>4.569673</td>\n",
       "      <td>daisy</td>\n",
       "      <td>0</td>\n",
       "    </tr>\n",
       "    <tr>\n",
       "      <th>2</th>\n",
       "      <td>../flowers(novas)/daisy/daisy-088.jpg</td>\n",
       "      <td>240</td>\n",
       "      <td>240</td>\n",
       "      <td>227.667984</td>\n",
       "      <td>174596.476562</td>\n",
       "      <td>13.089507</td>\n",
       "      <td>191.968880</td>\n",
       "      <td>0.131826</td>\n",
       "      <td>5.034895</td>\n",
       "      <td>daisy</td>\n",
       "      <td>0</td>\n",
       "    </tr>\n",
       "    <tr>\n",
       "      <th>3</th>\n",
       "      <td>../flowers(novas)/daisy/daisy-091.jpg</td>\n",
       "      <td>240</td>\n",
       "      <td>240</td>\n",
       "      <td>244.067797</td>\n",
       "      <td>90395.812500</td>\n",
       "      <td>1.874488</td>\n",
       "      <td>2.744570</td>\n",
       "      <td>0.104313</td>\n",
       "      <td>4.842056</td>\n",
       "      <td>daisy</td>\n",
       "      <td>0</td>\n",
       "    </tr>\n",
       "    <tr>\n",
       "      <th>4</th>\n",
       "      <td>../flowers(novas)/daisy/daisy-066.jpg</td>\n",
       "      <td>240</td>\n",
       "      <td>240</td>\n",
       "      <td>229.482072</td>\n",
       "      <td>114533.648438</td>\n",
       "      <td>3.478128</td>\n",
       "      <td>13.705549</td>\n",
       "      <td>0.112888</td>\n",
       "      <td>4.863655</td>\n",
       "      <td>daisy</td>\n",
       "      <td>0</td>\n",
       "    </tr>\n",
       "    <tr>\n",
       "      <th>...</th>\n",
       "      <td>...</td>\n",
       "      <td>...</td>\n",
       "      <td>...</td>\n",
       "      <td>...</td>\n",
       "      <td>...</td>\n",
       "      <td>...</td>\n",
       "      <td>...</td>\n",
       "      <td>...</td>\n",
       "      <td>...</td>\n",
       "      <td>...</td>\n",
       "      <td>...</td>\n",
       "    </tr>\n",
       "    <tr>\n",
       "      <th>495</th>\n",
       "      <td>../flowers(novas)/dandelion/dandelion-094.jpg</td>\n",
       "      <td>240</td>\n",
       "      <td>240</td>\n",
       "      <td>289.447236</td>\n",
       "      <td>61875.351562</td>\n",
       "      <td>1.156810</td>\n",
       "      <td>0.748979</td>\n",
       "      <td>0.093170</td>\n",
       "      <td>4.904907</td>\n",
       "      <td>dandelion</td>\n",
       "      <td>4</td>\n",
       "    </tr>\n",
       "    <tr>\n",
       "      <th>496</th>\n",
       "      <td>../flowers(novas)/dandelion/dandelion-060.jpg</td>\n",
       "      <td>240</td>\n",
       "      <td>240</td>\n",
       "      <td>230.400000</td>\n",
       "      <td>14876.351562</td>\n",
       "      <td>-0.340042</td>\n",
       "      <td>-0.783358</td>\n",
       "      <td>0.071092</td>\n",
       "      <td>5.351565</td>\n",
       "      <td>dandelion</td>\n",
       "      <td>4</td>\n",
       "    </tr>\n",
       "    <tr>\n",
       "      <th>497</th>\n",
       "      <td>../flowers(novas)/dandelion/dandelion-048.jpg</td>\n",
       "      <td>240</td>\n",
       "      <td>240</td>\n",
       "      <td>243.037975</td>\n",
       "      <td>122575.945312</td>\n",
       "      <td>2.012056</td>\n",
       "      <td>2.973205</td>\n",
       "      <td>0.115604</td>\n",
       "      <td>4.670448</td>\n",
       "      <td>dandelion</td>\n",
       "      <td>4</td>\n",
       "    </tr>\n",
       "    <tr>\n",
       "      <th>498</th>\n",
       "      <td>../flowers(novas)/dandelion/dandelion-062.jpg</td>\n",
       "      <td>240</td>\n",
       "      <td>240</td>\n",
       "      <td>242.016807</td>\n",
       "      <td>40414.539062</td>\n",
       "      <td>1.110677</td>\n",
       "      <td>2.232224</td>\n",
       "      <td>0.083813</td>\n",
       "      <td>5.101766</td>\n",
       "      <td>dandelion</td>\n",
       "      <td>4</td>\n",
       "    </tr>\n",
       "    <tr>\n",
       "      <th>499</th>\n",
       "      <td>../flowers(novas)/dandelion/dandelion-015.jpg</td>\n",
       "      <td>240</td>\n",
       "      <td>240</td>\n",
       "      <td>225.000000</td>\n",
       "      <td>81772.039062</td>\n",
       "      <td>12.514930</td>\n",
       "      <td>173.798263</td>\n",
       "      <td>0.101073</td>\n",
       "      <td>5.288496</td>\n",
       "      <td>dandelion</td>\n",
       "      <td>4</td>\n",
       "    </tr>\n",
       "  </tbody>\n",
       "</table>\n",
       "<p>500 rows × 11 columns</p>\n",
       "</div>"
      ],
      "text/plain": [
       "                                           nomeArq  largura  altura  \\\n",
       "0            ../flowers(novas)/daisy/daisy-089.jpg      240     240   \n",
       "1            ../flowers(novas)/daisy/daisy-041.jpg      240     240   \n",
       "2            ../flowers(novas)/daisy/daisy-088.jpg      240     240   \n",
       "3            ../flowers(novas)/daisy/daisy-091.jpg      240     240   \n",
       "4            ../flowers(novas)/daisy/daisy-066.jpg      240     240   \n",
       "..                                             ...      ...     ...   \n",
       "495  ../flowers(novas)/dandelion/dandelion-094.jpg      240     240   \n",
       "496  ../flowers(novas)/dandelion/dandelion-060.jpg      240     240   \n",
       "497  ../flowers(novas)/dandelion/dandelion-048.jpg      240     240   \n",
       "498  ../flowers(novas)/dandelion/dandelion-062.jpg      240     240   \n",
       "499  ../flowers(novas)/dandelion/dandelion-015.jpg      240     240   \n",
       "\n",
       "          media      variancia   skewness    kurtosis    energy   entropy  \\\n",
       "0    259.459459   38336.164062   0.598410   -0.842847  0.082851  5.122266   \n",
       "1    229.482072  254080.781250   5.120011   27.535038  0.153334  4.569673   \n",
       "2    227.667984  174596.476562  13.089507  191.968880  0.131826  5.034895   \n",
       "3    244.067797   90395.812500   1.874488    2.744570  0.104313  4.842056   \n",
       "4    229.482072  114533.648438   3.478128   13.705549  0.112888  4.863655   \n",
       "..          ...            ...        ...         ...       ...       ...   \n",
       "495  289.447236   61875.351562   1.156810    0.748979  0.093170  4.904907   \n",
       "496  230.400000   14876.351562  -0.340042   -0.783358  0.071092  5.351565   \n",
       "497  243.037975  122575.945312   2.012056    2.973205  0.115604  4.670448   \n",
       "498  242.016807   40414.539062   1.110677    2.232224  0.083813  5.101766   \n",
       "499  225.000000   81772.039062  12.514930  173.798263  0.101073  5.288496   \n",
       "\n",
       "     className  classId  \n",
       "0        daisy        0  \n",
       "1        daisy        0  \n",
       "2        daisy        0  \n",
       "3        daisy        0  \n",
       "4        daisy        0  \n",
       "..         ...      ...  \n",
       "495  dandelion        4  \n",
       "496  dandelion        4  \n",
       "497  dandelion        4  \n",
       "498  dandelion        4  \n",
       "499  dandelion        4  \n",
       "\n",
       "[500 rows x 11 columns]"
      ]
     },
     "execution_count": 43,
     "metadata": {},
     "output_type": "execute_result"
    }
   ],
   "source": [
    "matriz"
   ]
  },
  {
   "attachments": {},
   "cell_type": "markdown",
   "id": "85df16c5",
   "metadata": {},
   "source": [
    "# Scatter Plot\n",
    "Os gráficos de dispersão ou Scatter plot são representações gráficas do relacionamento entre duas variáveis numéricas. O Scatter plot utiliza pontos para representar essa relação, cada ponto representa o valor de uma variável no eixo horizontal e o valor de outra variável no eixo vertical.\n",
    "\n",
    "Fonte: https://www.flai.com.br/juscudilio/scatter-plot-um-guia-completo-para-graficos-de-dispersao/"
   ]
  },
  {
   "cell_type": "code",
   "execution_count": 44,
   "id": "5f5dd589",
   "metadata": {},
   "outputs": [],
   "source": [
    "matriz = pd.read_csv('matriz.csv')"
   ]
  },
  {
   "cell_type": "code",
   "execution_count": 45,
   "id": "fa0de6cf",
   "metadata": {},
   "outputs": [],
   "source": [
    "def manyShow(*imgs, color=None):\n",
    "    _, ax = plt.subplots(1, len(imgs), figsize=(20, 20),sharex=True)\n",
    "    for index, i in enumerate(ax):\n",
    "        i.imshow(imgs[index], cmap=color)\n",
    "        i.set_title(f'{imgs[index].shape}')\n",
    "        i.axis('off')"
   ]
  },
  {
   "cell_type": "code",
   "execution_count": 46,
   "id": "7b7991b1",
   "metadata": {},
   "outputs": [],
   "source": [
    "def manyShowWithTitle(*imgs, color=None):\n",
    "    _, ax = plt.subplots(1, len(imgs), figsize=(20, 20),sharex=True)\n",
    "    for index, i in enumerate(ax):\n",
    "        i.imshow(imgs[index]['img'], cmap=color)\n",
    "        i.set_title(f'{imgs[index][\"title\"]} \\n {imgs[index][\"img\"].shape}')\n",
    "        i.axis('off')"
   ]
  },
  {
   "cell_type": "code",
   "execution_count": 47,
   "id": "7fbd2cdc",
   "metadata": {},
   "outputs": [],
   "source": [
    "def scatterMostra(matriz, xlabel, ylabel, color='red'):\n",
    "    sns.scatterplot(x=matriz[xlabel], y=matriz[ylabel], hue=matriz['className'])\n",
    "    plt.title(f'{xlabel} x {ylabel}')\n",
    "    plt.show()"
   ]
  },
  {
   "cell_type": "code",
   "execution_count": 48,
   "id": "d93eb786",
   "metadata": {},
   "outputs": [
    {
     "data": {
      "image/png": "[encoded data removed]",
      "text/plain": [
       "<Figure size 432x288 with 1 Axes>"
      ]
     },
     "metadata": {
      "needs_background": "light"
     },
     "output_type": "display_data"
    },
    {
     "data": {
      "image/png": "[encoded data removed]",
      "text/plain": [
       "<Figure size 432x288 with 1 Axes>"
      ]
     },
     "metadata": {
      "needs_background": "light"
     },
     "output_type": "display_data"
    },
    {
     "data": {
      "image/png": "[encoded data removed]",
      "text/plain": [
       "<Figure size 432x288 with 1 Axes>"
      ]
     },
     "metadata": {
      "needs_background": "light"
     },
     "output_type": "display_data"
    }
   ],
   "source": [
    "scatterMostra(matriz, 'media', 'variancia')\n",
    "scatterMostra(matriz, 'skewness', 'kurtosis')\n",
    "scatterMostra(matriz, 'energy', 'entropy')"
   ]
  },
  {
   "attachments": {},
   "cell_type": "markdown",
   "id": "7a6b2547",
   "metadata": {},
   "source": [
    "# Classificação"
   ]
  },
  {
   "cell_type": "code",
   "execution_count": 49,
   "id": "a78f1aa7",
   "metadata": {},
   "outputs": [],
   "source": [
    "def classification(X,y):\n",
    "\n",
    "    \"\"\"\n",
    "    X é uma matriz onde cada linha corresponde aos atributos calculados com o descritor\n",
    "    y são os rótulos da classe de cada imagem. Exemplo [0,1,0,0,1,2,2,0,0,0,...,1]\n",
    "    \"\"\"\n",
    "    \n",
    "    # separar conjuntos de treino e teste\n",
    "    X_train,X_test,y_train,y_test = train_test_split(X,y,train_size=0.7,shuffle=True, random_state=42)\n",
    "    # criar instancia do classificador\n",
    "    clf = mlp()\n",
    "    # treinar o classificador\n",
    "    clf.fit(X_train,y_train)\n",
    "    # realizar a predicao\n",
    "    pred = clf.predict(X_test)\n",
    "    # calcular o resultado utilizando a acuracia\n",
    "    acuracia = acc(y_test,pred)\n",
    "    \n",
    "    return acuracia"
   ]
  },
  {
   "cell_type": "code",
   "execution_count": 51,
   "id": "3eaf0bd4",
   "metadata": {},
   "outputs": [],
   "source": [
    "def classificationForest(X,y):\n",
    "\n",
    "    \n",
    "    \"\"\" com random forest \"\"\"\n",
    "\n",
    "    # separar conjuntos de treino e teste\n",
    "    X_train,X_test,y_train,y_test = train_test_split(X,y,train_size=0.7,shuffle=True, random_state=42)\n",
    "    # criar instancia do classificador\n",
    "    clf = rfc()\n",
    "    # treinar o classificador\n",
    "    clf.fit(X_train,y_train)\n",
    "    # realizar a predicao\n",
    "    pred = clf.predict(X_test)\n",
    "    # calcular o resultado utilizando a acuracia\n",
    "    acuracia = acc(y_test,pred)\n",
    "    \n",
    "\n",
    "\n",
    "    return acuracia"
   ]
  },
  {
   "cell_type": "code",
   "execution_count": 52,
   "id": "bd527ff5",
   "metadata": {},
   "outputs": [],
   "source": [
    "def classificationSVM(X, y):\n",
    "    svc = SVC(gamma=\"auto\")\n",
    "    #cv_result = cross_val_score(svc, X, y, cv=10, scoring=\"accuracy\")\n",
    "\n",
    "    X_train,X_test,y_train,y_test = train_test_split(X,y,train_size=0.7,shuffle=True)\n",
    "    # criar instancia do classificador\n",
    "    clf = svc\n",
    "    # treinar o classificador\n",
    "    clf.fit(X_train,y_train)\n",
    "    # realizar a predicao\n",
    "    pred = clf.predict(X_test)\n",
    "    # calcular o resultado utilizando a acuracia\n",
    "    acuracia = acc(y_test,pred)\n",
    "\n",
    "\n",
    "    return acuracia\n"
   ]
  },
  {
   "cell_type": "code",
   "execution_count": 53,
   "id": "287daf5a",
   "metadata": {},
   "outputs": [],
   "source": [
    "def classificationXBR(X, y):\n",
    "    X_train,X_test,y_train,y_test = train_test_split(X,y,train_size=0.7,shuffle=True)\n",
    "    # criar instancia do classificador\n",
    "    clf = xgb.XGBClassifier()\n",
    "    # treinar o classificador\n",
    "    clf.fit(X_train,y_train)\n",
    "    # realizar a predicao\n",
    "    pred = clf.predict(X_test)\n",
    "    # calcular o resultado utilizando a acuracia\n",
    "    acuracia = acc(y_test,pred)\n",
    "\n",
    "    return acuracia\n",
    "    "
   ]
  },
  {
   "cell_type": "code",
   "execution_count": 72,
   "id": "7f772fce",
   "metadata": {},
   "outputs": [],
   "source": [
    "# cria um array normal com os dados: media, variancia, skewness, kurtosis, energy, entropy\n",
    "def pegaMatrizAux(matriz):\n",
    "    atual = 0\n",
    "    cont = 100\n",
    "    aux = []\n",
    "    y = []\n",
    "    for i in matriz.values:\n",
    "        n = list(i)\n",
    "        if n[10] == atual:\n",
    "            aux.append([n[3], n[4], n[5], n[6], n[7], n[8]])\n",
    "            y.append(n[10])\n",
    "            cont -= 1\n",
    "        \n",
    "        if cont == 0:\n",
    "            atual += 1\n",
    "            cont = 100\n",
    "\n",
    "    return aux, y"
   ]
  },
  {
   "cell_type": "code",
   "execution_count": 73,
   "id": "a357f783",
   "metadata": {},
   "outputs": [],
   "source": [
    "aux, y = pegaMatrizAux(matriz)"
   ]
  },
  {
   "cell_type": "code",
   "execution_count": 77,
   "id": "10a311d6",
   "metadata": {},
   "outputs": [
    {
     "data": {
      "text/plain": [
       "'Acuracia MLP: 16.666666666666664 %'"
      ]
     },
     "execution_count": 77,
     "metadata": {},
     "output_type": "execute_result"
    }
   ],
   "source": [
    "f\"Acuracia MLP: {(classification(aux, y)* 100)} %\""
   ]
  },
  {
   "cell_type": "code",
   "execution_count": 78,
   "id": "7bc8a7c6",
   "metadata": {},
   "outputs": [
    {
     "data": {
      "text/plain": [
       "'Acuracia RandomForest: 26.0 %'"
      ]
     },
     "execution_count": 78,
     "metadata": {},
     "output_type": "execute_result"
    }
   ],
   "source": [
    "f\"Acuracia RandomForest: {(classificationForest(aux, y) * 100)} %\""
   ]
  },
  {
   "cell_type": "code",
   "execution_count": 79,
   "id": "07a62e6f",
   "metadata": {},
   "outputs": [
    {
     "data": {
      "text/plain": [
       "'Acuracia SVM: 16.666666666666664 %'"
      ]
     },
     "execution_count": 79,
     "metadata": {},
     "output_type": "execute_result"
    }
   ],
   "source": [
    "f\"Acuracia SVM: {(classificationSVM(aux, y) * 100)} %\""
   ]
  },
  {
   "cell_type": "code",
   "execution_count": 80,
   "id": "e2ddfc0a",
   "metadata": {},
   "outputs": [
    {
     "data": {
      "text/plain": [
       "'Acuracia XBR: 24.666666666666668 %'"
      ]
     },
     "execution_count": 80,
     "metadata": {},
     "output_type": "execute_result"
    }
   ],
   "source": [
    "f\"Acuracia XBR: {(classificationXBR(aux, y) * 100)} %\""
   ]
  },
  {
   "cell_type": "code",
   "execution_count": 86,
   "id": "0141715b",
   "metadata": {},
   "outputs": [],
   "source": [
    "def pegaMelhores(aux, y, qnt):\n",
    "    resultadosMLP = []\n",
    "    resultadosRF = []\n",
    "    resultadosSVM = []\n",
    "    resultadosXBR = []\n",
    "    for i in tqdm(range(qnt)):\n",
    "        resultadosMLP.append(classification(aux, y))\n",
    "        resultadosRF.append(classificationForest(aux, y))\n",
    "        resultadosSVM.append(classificationSVM(aux, y))\n",
    "        resultadosXBR.append(classificationXBR(aux, y))\n",
    "        \n",
    "    return resultadosMLP, resultadosRF, resultadosSVM, resultadosXBR"
   ]
  },
  {
   "cell_type": "code",
   "execution_count": 87,
   "id": "f79497dc",
   "metadata": {},
   "outputs": [
    {
     "name": "stderr",
     "output_type": "stream",
     "text": [
      "100%|██████████| 30/30 [00:15<00:00,  1.99it/s]\n"
     ]
    }
   ],
   "source": [
    "melhoresMLP, melhoresRF, melhoresSVM, melhoresXBR = pegaMelhores(aux, y, 30)"
   ]
  },
  {
   "cell_type": "code",
   "execution_count": 171,
   "metadata": {},
   "outputs": [],
   "source": [
    "def apresentaTestes(mlp, rf, svm, xbr, titulo):\n",
    "    # Apresenta um gráfico de barras com os resultados\n",
    "    # Os valores são apresentados centralizados no gráfico de barras\n",
    "    fig, ax = plt.subplots()\n",
    "    ax.bar(['MLP', 'RF', 'SVM', 'XBR'], [mlp, rf, svm, xbr], color=['red', 'green', 'blue', 'yellow'])\n",
    "    ax.set_title(titulo)\n",
    "    ax.set_ylabel('Acurácia')\n",
    "    ax.set_ylim(0, np.max([mlp, rf, svm, xbr])+0.1)\n",
    "    for p in ax.patches:\n",
    "        n = str(round(p.get_height(), 2))\n",
    "        ax.annotate(f\"      {n}\", (p.get_x() * 1.010, p.get_height() * 1.015), )\n",
    "    plt.show() "
   ]
  },
  {
   "cell_type": "code",
   "execution_count": 172,
   "metadata": {},
   "outputs": [
    {
     "data": {
      "image/png": "[encoded data removed]",
      "text/plain": [
       "<Figure size 432x288 with 1 Axes>"
      ]
     },
     "metadata": {
      "needs_background": "light"
     },
     "output_type": "display_data"
    },
    {
     "data": {
      "image/png": "[encoded data removed]",
      "text/plain": [
       "<Figure size 432x288 with 1 Axes>"
      ]
     },
     "metadata": {
      "needs_background": "light"
     },
     "output_type": "display_data"
    },
    {
     "data": {
      "image/png": "[encoded data removed]",
      "text/plain": [
       "<Figure size 432x288 with 1 Axes>"
      ]
     },
     "metadata": {
      "needs_background": "light"
     },
     "output_type": "display_data"
    }
   ],
   "source": [
    "apresentaTestes(round(max(melhoresMLP),2), round(max(melhoresRF),2), round(max(melhoresSVM),2), round(max(melhoresXBR),2), 'Melhores resultados')\n",
    "apresentaTestes(round(np.mean(melhoresMLP),2), round(np.mean(melhoresRF),2), round(np.mean(melhoresSVM),2), round(np.mean(melhoresXBR),2), 'Média dos resultados')\n",
    "apresentaTestes(round(np.min(melhoresMLP),2), round(np.min(melhoresRF),2), round(np.min(melhoresSVM),2), round(np.min(melhoresXBR),2), 'Menores resultados')"
   ]
  },
  {
   "cell_type": "code",
   "execution_count": 173,
   "id": "a966933a",
   "metadata": {},
   "outputs": [
    {
     "name": "stdout",
     "output_type": "stream",
     "text": [
      "Melhores: \n",
      "\t MLP: 0.26666666666666666 \n",
      "\t RF: 0.29333333333333333 \n",
      "\t SVM: 0.19333333333333333 \n",
      "\t XBR: 0.3333333333333333\n"
     ]
    }
   ],
   "source": [
    "print(f'Melhores: \\n\\t MLP: {max(melhoresMLP)} \\n\\t RF: {max(melhoresRF)} \\n\\t SVM: {max(melhoresSVM)} \\n\\t XBR: {max(melhoresXBR)}')\n"
   ]
  },
  {
   "cell_type": "code",
   "execution_count": 174,
   "id": "8b311834",
   "metadata": {},
   "outputs": [
    {
     "name": "stdout",
     "output_type": "stream",
     "text": [
      "Média: \n",
      "\t MLP: 0.21022222222222223 \n",
      "\t RF: 0.2693333333333333 \n",
      "\t SVM: 0.16800000000000004 \n",
      "\t XBR: 0.26777777777777784\n"
     ]
    }
   ],
   "source": [
    "print(f'Média: \\n\\t MLP: {np.mean(melhoresMLP)} \\n\\t RF: {np.mean(melhoresRF)} \\n\\t SVM: {np.mean(melhoresSVM)} \\n\\t XBR: {np.mean(melhoresXBR)}')"
   ]
  },
  {
   "cell_type": "code",
   "execution_count": 175,
   "id": "c336e70b",
   "metadata": {},
   "outputs": [
    {
     "name": "stdout",
     "output_type": "stream",
     "text": [
      "Piores: \n",
      "\t MLP: 0.14666666666666667 \n",
      "\t RF: 0.24666666666666667 \n",
      "\t SVM: 0.14666666666666667 \n",
      "\t XBR: 0.19333333333333333\n"
     ]
    }
   ],
   "source": [
    "print(f'Piores: \\n\\t MLP: {min(melhoresMLP)} \\n\\t RF: {min(melhoresRF)} \\n\\t SVM: {min(melhoresSVM)} \\n\\t XBR: {min(melhoresXBR)}')"
   ]
  },
  {
   "cell_type": "code",
   "execution_count": null,
   "metadata": {},
   "outputs": [],
   "source": []
  }
 ],
 "metadata": {
  "kernelspec": {
   "display_name": "Python 3",
   "language": "python",
   "name": "python3"
  },
  "language_info": {
   "codemirror_mode": {
    "name": "ipython",
    "version": 3
   },
   "file_extension": ".py",
   "mimetype": "text/x-python",
   "name": "python",
   "nbconvert_exporter": "python",
   "pygments_lexer": "ipython3",
   "version": "3.8.10"
  },
  "orig_nbformat": 4,
  "vscode": {
   "interpreter": {
    "hash": "916dbcbb3f70747c44a77c7bcd40155683ae19c65e1c03b4aa3499c5328201f1"
   }
  }
 },
 "nbformat": 4,
 "nbformat_minor": 2
}
