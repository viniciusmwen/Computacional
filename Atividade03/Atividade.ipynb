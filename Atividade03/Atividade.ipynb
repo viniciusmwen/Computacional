{
 "cells": [
  {
   "cell_type": "markdown",
   "id": "502fb0ce",
   "metadata": {},
   "source": [
    "## Bibliotecas"
   ]
  },
  {
   "cell_type": "code",
   "execution_count": 2,
   "id": "556b2bcb",
   "metadata": {},
   "outputs": [],
   "source": [
    "import numpy as np\n",
    "import matplotlib.pyplot as plt\n",
    "import pandas as pd\n",
    "from skimage.io import imread,imsave,imshow\n",
    "from skimage.color import rgb2gray\n",
    "from scipy.stats import norm, kurtosis, entropy, skew\n",
    "from skimage.feature import graycoprops,graycomatrix\n",
    "import cv2\n",
    "from glob import glob\n",
    "import os\n",
    "import csv\n",
    "import plotly.express as px\n",
    "from sklearn.ensemble import RandomForestClassifier as rfc\n",
    "from sklearn.model_selection import train_test_split\n",
    "from sklearn.neural_network import MLPClassifier as mlp\n",
    "from sklearn.metrics import accuracy_score as acc\n",
    "from sklearn.model_selection import cross_val_score # Cross Validation Function.\n",
    "from sklearn.model_selection import KFold # KFold Class.\n",
    "from sklearn.linear_model import LinearRegression # Linear Regression class.\n",
    "from skimage.exposure import histogram\n",
    "import tqdm\n",
    "from sklearn.svm import SVC\n",
    "import xgboost as xgb\n",
    "import seaborn as sns"
   ]
  },
  {
   "attachments": {},
   "cell_type": "markdown",
   "id": "6a5160ac",
   "metadata": {},
   "source": [
    "#### Os seguintes valores são calculado com o histograma e são largamente utilizados para representar imagens:\n",
    "\n",
    "- Média \n",
    "- Variância \n",
    "- Skewness \n",
    "- Kurtosis \n",
    "- Energia \n",
    "- Entropia "
   ]
  },
  {
   "cell_type": "markdown",
   "id": "fbaf4394",
   "metadata": {},
   "source": [
    "---\n",
    "## Leitura da Imagem"
   ]
  },
  {
   "cell_type": "code",
   "execution_count": 5,
   "id": "50d2d63d",
   "metadata": {},
   "outputs": [],
   "source": [
    "# resolução das imagens\n",
    "altura = 240\n",
    "largura = 240"
   ]
  },
  {
   "cell_type": "code",
   "execution_count": 6,
   "id": "ae13ddd2",
   "metadata": {},
   "outputs": [],
   "source": [
    "def Ler_Cinza(imagem):\n",
    "    # Função para realizar a leitura de uma imagem e retornar a imagem cinza.\n",
    "    img = cv2.imread(imagem,0)\n",
    "    return img, cv2.resize(img, (largura, altura))"
   ]
  },
  {
   "cell_type": "markdown",
   "id": "becfef10",
   "metadata": {},
   "source": [
    "---\n",
    "## Histograma e Estatísticas"
   ]
  },
  {
   "cell_type": "code",
   "execution_count": 8,
   "id": "2d163ccf",
   "metadata": {},
   "outputs": [],
   "source": [
    "def Retorna_Histograma(Imagem):  \n",
    "    # Função para retornar o histograma de uma imagem.\n",
    "    Linhas, Colunas = Imagem.shape\n",
    "    Array = []\n",
    "    Valores = []\n",
    "    for I in range(256):\n",
    "        Array.append(0)\n",
    "        Valores.append(I)\n",
    "    for L in range(Linhas):\n",
    "        for C in range(Colunas):\n",
    "            # print(Imagem[L][C])\n",
    "            Array[int(Imagem[L][C])] += 1   \n",
    "    return [Array,Valores]"
   ]
  },
  {
   "cell_type": "code",
   "execution_count": 9,
   "id": "b3f73ff6",
   "metadata": {},
   "outputs": [],
   "source": [
    "def Descritor_Histograma(imagem):\n",
    "    Histograma = Retorna_Histograma(imagem)\n",
    "    histograma2 = histogram(imagem, nbins=256)\n",
    "\n",
    "    media = np.mean(histograma2[0])\n",
    "    variancia = np.var(Histograma[0])\n",
    "    s = skew(Histograma[0])\n",
    "    kur = kurtosis(Histograma[0])\n",
    "    good = graycomatrix(imagem,[0],[0]) # Energia\n",
    "    ener = graycoprops(good,'energy')\n",
    "    ent = entropy(Histograma[0])\n",
    "    return {\n",
    "        'histograma': Histograma[0], \n",
    "        'media': media, \n",
    "        'var': variancia,\n",
    "        'skewness': s, \n",
    "        'kurtosis': kur, \n",
    "        'energy': ener[0][0], \n",
    "        'entropy': ent}"
   ]
  },
  {
   "cell_type": "code",
   "execution_count": 10,
   "id": "5f1613a2",
   "metadata": {
    "scrolled": false
   },
   "outputs": [
    {
     "name": "stdout",
     "output_type": "stream",
     "text": [
      "{'histograma': [97, 18, 26, 25, 27, 37, 27, 35, 28, 61, 89, 142, 227, 145, 148, 177, 222, 334, 421, 480, 568, 590, 571, 630, 663, 605, 605, 651, 657, 709, 859, 1018, 930, 928, 1013, 925, 957, 956, 940, 962, 1036, 871, 756, 606, 598, 648, 612, 592, 532, 521, 526, 481, 530, 563, 543, 542, 540, 503, 447, 419, 461, 372, 422, 380, 375, 348, 287, 277, 257, 255, 220, 230, 274, 274, 275, 318, 294, 259, 270, 216, 173, 168, 164, 147, 191, 158, 135, 162, 167, 150, 155, 151, 123, 133, 147, 146, 124, 123, 139, 117, 142, 121, 141, 151, 128, 114, 129, 138, 123, 123, 113, 127, 117, 115, 95, 107, 116, 103, 109, 109, 112, 120, 116, 111, 99, 123, 96, 102, 131, 135, 123, 123, 119, 141, 137, 119, 153, 160, 177, 205, 243, 217, 235, 247, 208, 188, 183, 171, 171, 151, 183, 188, 184, 198, 189, 188, 171, 157, 167, 137, 149, 146, 148, 114, 113, 132, 168, 129, 121, 154, 157, 139, 115, 147, 104, 130, 120, 133, 128, 130, 131, 133, 124, 119, 131, 132, 130, 135, 137, 139, 132, 158, 140, 133, 169, 142, 157, 171, 172, 155, 173, 186, 199, 167, 181, 178, 220, 180, 221, 194, 203, 217, 205, 229, 235, 253, 224, 233, 243, 233, 286, 301, 280, 315, 303, 318, 350, 334, 371, 355, 399, 427, 465, 481, 512, 499, 555, 477, 542, 542, 561, 588, 609, 593, 606, 534, 580, 549, 581, 544, 514, 502, 458, 383, 259, 371], 'media': 290.0, 'var': 50220.0390625, 'skewness': 1.4147212747031865, 'kurtosis': 1.4019933055987783, 'energy': 0.07898641890124486, 'entropy': 5.287515955172753}\n"
     ]
    }
   ],
   "source": [
    "print(Descritor_Histograma(cinza))"
   ]
  },
  {
   "cell_type": "markdown",
   "id": "28cc97f2",
   "metadata": {},
   "source": [
    "---\n",
    "## Leitura do DataSet"
   ]
  },
  {
   "cell_type": "code",
   "execution_count": 11,
   "id": "c2720c60",
   "metadata": {},
   "outputs": [],
   "source": [
    "def contabilizaTamanhos(dataset):\n",
    "    tamanhos = {'total': 0}\n",
    "    for classe in dataset:\n",
    "        tamanhos[classe] = len(dataset[classe])\n",
    "        tamanhos['total'] += len(dataset[classe])\n",
    "    dataset['tamanhos'] = tamanhos\n",
    "    return dataset"
   ]
  },
  {
   "cell_type": "code",
   "execution_count": 12,
   "id": "853878fa",
   "metadata": {},
   "outputs": [],
   "source": [
    "def lerDataset(nameDataset):\n",
    "    dataset = {}\n",
    "    for classe in os.listdir(nameDataset):\n",
    "        dataset[classe] = glob(f'flowers/{classe}/*', recursive=True)\n",
    "\n",
    "    dataset = contabilizaTamanhos(dataset)\n",
    "    \n",
    "    return dataset"
   ]
  },
  {
   "cell_type": "code",
   "execution_count": 13,
   "id": "f47a9903",
   "metadata": {},
   "outputs": [],
   "source": [
    "dataset = lerDataset('flowers')"
   ]
  },
  {
   "cell_type": "code",
   "execution_count": 14,
   "id": "d6df09c6",
   "metadata": {},
   "outputs": [
    {
     "data": {
      "text/plain": [
       "{'total': 4317,\n",
       " 'daisy': 764,\n",
       " 'sunflower': 733,\n",
       " 'tulip': 984,\n",
       " 'rose': 784,\n",
       " 'dandelion': 1052}"
      ]
     },
     "execution_count": 14,
     "metadata": {},
     "output_type": "execute_result"
    }
   ],
   "source": [
    "dataset['tamanhos']"
   ]
  },
  {
   "cell_type": "code",
   "execution_count": 15,
   "id": "faf4d75b",
   "metadata": {},
   "outputs": [
    {
     "data": {
      "text/plain": [
       "['flowers/daisy/14021430525_e06baf93a9.jpg',\n",
       " 'flowers/daisy/16020253176_60f2a6a5ca_n.jpg',\n",
       " 'flowers/daisy/7133935763_82b17c8e1b_n.jpg',\n",
       " 'flowers/daisy/9515186037_3be48fe68f.jpg',\n",
       " 'flowers/daisy/15327813273_06cdf42210.jpg',\n",
       " 'flowers/daisy/3285641623_da0e47f49a.jpg',\n",
       " 'flowers/daisy/9299302012_958c70564c_n.jpg',\n",
       " 'flowers/daisy/8071646795_2fdc89ab7a_n.jpg',\n",
       " 'flowers/daisy/5885826924_38fdc6bcaa_n.jpg',\n",
       " 'flowers/daisy/5512287917_9f5d3f0f98_n.jpg']"
      ]
     },
     "execution_count": 15,
     "metadata": {},
     "output_type": "execute_result"
    }
   ],
   "source": [
    "dataset['daisy'][0:10] # Não preciso abrir todas as imagens, apenas ter os endereços para abrir quando precisar."
   ]
  },
  {
   "cell_type": "code",
   "execution_count": 16,
   "id": "dfd238a6",
   "metadata": {},
   "outputs": [],
   "source": [
    "imgTesteBlack, redimensionadA = Ler_Cinza(dataset['daisy'][5])"
   ]
  },
  {
   "cell_type": "code",
   "execution_count": 19,
   "id": "1b65b5fa",
   "metadata": {},
   "outputs": [
    {
     "data": {
      "text/plain": [
       "array([[86, 83, 81, ..., 45, 49, 52],\n",
       "       [84, 81, 80, ..., 51, 52, 52],\n",
       "       [80, 79, 77, ..., 52, 53, 53],\n",
       "       ...,\n",
       "       [34, 37, 37, ..., 26, 26, 26],\n",
       "       [34, 34, 34, ..., 24, 23, 23],\n",
       "       [33, 32, 33, ..., 25, 24, 24]], dtype=uint8)"
      ]
     },
     "execution_count": 19,
     "metadata": {},
     "output_type": "execute_result"
    }
   ],
   "source": [
    "imgTesteBlack"
   ]
  },
  {
   "cell_type": "code",
   "execution_count": 20,
   "id": "816b5ea5",
   "metadata": {},
   "outputs": [
    {
     "data": {
      "text/plain": [
       "{'histograma': [3,\n",
       "  2,\n",
       "  4,\n",
       "  4,\n",
       "  2,\n",
       "  8,\n",
       "  5,\n",
       "  16,\n",
       "  21,\n",
       "  23,\n",
       "  35,\n",
       "  34,\n",
       "  46,\n",
       "  55,\n",
       "  72,\n",
       "  131,\n",
       "  241,\n",
       "  478,\n",
       "  719,\n",
       "  855,\n",
       "  894,\n",
       "  950,\n",
       "  938,\n",
       "  1081,\n",
       "  1061,\n",
       "  1092,\n",
       "  1094,\n",
       "  1092,\n",
       "  970,\n",
       "  1000,\n",
       "  943,\n",
       "  923,\n",
       "  918,\n",
       "  887,\n",
       "  977,\n",
       "  859,\n",
       "  881,\n",
       "  803,\n",
       "  825,\n",
       "  860,\n",
       "  841,\n",
       "  835,\n",
       "  812,\n",
       "  772,\n",
       "  753,\n",
       "  754,\n",
       "  712,\n",
       "  659,\n",
       "  665,\n",
       "  686,\n",
       "  690,\n",
       "  717,\n",
       "  638,\n",
       "  685,\n",
       "  613,\n",
       "  606,\n",
       "  639,\n",
       "  591,\n",
       "  609,\n",
       "  616,\n",
       "  581,\n",
       "  601,\n",
       "  640,\n",
       "  695,\n",
       "  679,\n",
       "  718,\n",
       "  794,\n",
       "  841,\n",
       "  954,\n",
       "  913,\n",
       "  939,\n",
       "  906,\n",
       "  877,\n",
       "  832,\n",
       "  823,\n",
       "  809,\n",
       "  725,\n",
       "  696,\n",
       "  688,\n",
       "  658,\n",
       "  617,\n",
       "  630,\n",
       "  557,\n",
       "  559,\n",
       "  560,\n",
       "  567,\n",
       "  587,\n",
       "  585,\n",
       "  578,\n",
       "  527,\n",
       "  475,\n",
       "  472,\n",
       "  425,\n",
       "  419,\n",
       "  422,\n",
       "  427,\n",
       "  414,\n",
       "  380,\n",
       "  354,\n",
       "  333,\n",
       "  311,\n",
       "  266,\n",
       "  241,\n",
       "  224,\n",
       "  208,\n",
       "  204,\n",
       "  185,\n",
       "  169,\n",
       "  158,\n",
       "  182,\n",
       "  165,\n",
       "  179,\n",
       "  190,\n",
       "  177,\n",
       "  206,\n",
       "  181,\n",
       "  188,\n",
       "  173,\n",
       "  187,\n",
       "  204,\n",
       "  200,\n",
       "  233,\n",
       "  248,\n",
       "  228,\n",
       "  199,\n",
       "  219,\n",
       "  233,\n",
       "  232,\n",
       "  244,\n",
       "  230,\n",
       "  247,\n",
       "  246,\n",
       "  226,\n",
       "  233,\n",
       "  229,\n",
       "  268,\n",
       "  237,\n",
       "  261,\n",
       "  240,\n",
       "  280,\n",
       "  266,\n",
       "  265,\n",
       "  245,\n",
       "  249,\n",
       "  222,\n",
       "  240,\n",
       "  268,\n",
       "  277,\n",
       "  269,\n",
       "  281,\n",
       "  251,\n",
       "  243,\n",
       "  262,\n",
       "  281,\n",
       "  272,\n",
       "  261,\n",
       "  271,\n",
       "  271,\n",
       "  315,\n",
       "  303,\n",
       "  301,\n",
       "  311,\n",
       "  316,\n",
       "  330,\n",
       "  329,\n",
       "  331,\n",
       "  365,\n",
       "  316,\n",
       "  296,\n",
       "  363,\n",
       "  375,\n",
       "  379,\n",
       "  444,\n",
       "  470,\n",
       "  438,\n",
       "  522,\n",
       "  531,\n",
       "  566,\n",
       "  506,\n",
       "  545,\n",
       "  502,\n",
       "  479,\n",
       "  456,\n",
       "  497,\n",
       "  464,\n",
       "  445,\n",
       "  481,\n",
       "  469,\n",
       "  473,\n",
       "  501,\n",
       "  484,\n",
       "  472,\n",
       "  441,\n",
       "  459,\n",
       "  493,\n",
       "  462,\n",
       "  527,\n",
       "  574,\n",
       "  647,\n",
       "  653,\n",
       "  748,\n",
       "  740,\n",
       "  722,\n",
       "  743,\n",
       "  824,\n",
       "  897,\n",
       "  933,\n",
       "  1060,\n",
       "  1190,\n",
       "  1294,\n",
       "  1345,\n",
       "  1351,\n",
       "  1287,\n",
       "  1389,\n",
       "  1478,\n",
       "  1559,\n",
       "  1482,\n",
       "  1494,\n",
       "  1546,\n",
       "  1844,\n",
       "  2125,\n",
       "  2411,\n",
       "  2525,\n",
       "  2295,\n",
       "  2220,\n",
       "  2124,\n",
       "  1945,\n",
       "  1848,\n",
       "  1926,\n",
       "  1876,\n",
       "  1813,\n",
       "  1666,\n",
       "  1733,\n",
       "  1603,\n",
       "  1734,\n",
       "  1766,\n",
       "  1928,\n",
       "  2351,\n",
       "  2714,\n",
       "  2370,\n",
       "  2080,\n",
       "  2371,\n",
       "  2905,\n",
       "  3905,\n",
       "  4932,\n",
       "  6666,\n",
       "  5641,\n",
       "  583,\n",
       "  158,\n",
       "  81,\n",
       "  48,\n",
       "  43,\n",
       "  27,\n",
       "  46,\n",
       "  38,\n",
       "  69],\n",
       " 'media': 732.421875,\n",
       " 'var': 673655.7126464844,\n",
       " 'skewness': 3.473527400495014,\n",
       " 'kurtosis': 17.322058353048117,\n",
       " 'energy': 0.09387044901470441,\n",
       " 'entropy': 5.113640048353041}"
      ]
     },
     "execution_count": 20,
     "metadata": {},
     "output_type": "execute_result"
    }
   ],
   "source": [
    "Descritor_Histograma(imgTesteBlack)"
   ]
  },
  {
   "cell_type": "markdown",
   "id": "3b7c94e7",
   "metadata": {},
   "source": [
    "---\n",
    "## Criação da Matriz com os atributos calculados"
   ]
  },
  {
   "cell_type": "code",
   "execution_count": 21,
   "id": "679af53a",
   "metadata": {},
   "outputs": [],
   "source": [
    "def criaLinhaCsv(d, arquivo='matriz.csv'):\n",
    "    # ordem: nomeArq,largura,altura,media,variancia,skewness,kurtosis,energy,entropy,className,classId\n",
    "    linha = [d['img'], d['largura'], d['altura'], d['media'], d['var'], d['skewness'], d['kurtosis'], d['energy'], d['entropy'], d['classe'], d['classeId']]\n",
    "    \n",
    "    with open(arquivo, 'a') as csvFile:\n",
    "        writer = csv.writer(csvFile)\n",
    "        writer.writerow(linha)"
   ]
  },
  {
   "cell_type": "code",
   "execution_count": 22,
   "id": "e1ba21a1",
   "metadata": {},
   "outputs": [],
   "source": [
    "def criaMatriz(dataset, arquivo):\n",
    "    matriz = []\n",
    "    count = 0\n",
    "    for index, classe in enumerate(dataset):\n",
    "        print(f'Inserindo dados da classe {index} referente as {classe}')\n",
    "        for img in dataset[classe]:\n",
    "            if count < 4317:\n",
    "                imagem, imgRedim = Ler_Cinza(img)\n",
    "                descritor = Descritor_Histograma(imgRedim)\n",
    "                descritor['classe'] = classe\n",
    "                descritor['img'] = img\n",
    "                descritor['classeId'] = index\n",
    "                descritor['largura'], descritor['altura'] = imgRedim.shape\n",
    "\n",
    "                criaLinhaCsv(descritor, arquivo)\n",
    "                count += 1"
   ]
  },
  {
   "cell_type": "code",
   "execution_count": 23,
   "id": "758052bc",
   "metadata": {},
   "outputs": [],
   "source": [
    "# Função que cria a matriz. Não vou executar pelo o tempo.\n",
    "#criaMatriz(dataset, 'matriz2.csv')"
   ]
  },
  {
   "cell_type": "code",
   "execution_count": 24,
   "id": "15f86c49",
   "metadata": {},
   "outputs": [],
   "source": [
    "matriz = pd.read_csv('matriz2.csv')"
   ]
  },
  {
   "cell_type": "code",
   "execution_count": 25,
   "id": "d9ccd300",
   "metadata": {},
   "outputs": [
    {
     "data": {
      "text/html": [
       "<div>\n",
       "<style scoped>\n",
       "    .dataframe tbody tr th:only-of-type {\n",
       "        vertical-align: middle;\n",
       "    }\n",
       "\n",
       "    .dataframe tbody tr th {\n",
       "        vertical-align: top;\n",
       "    }\n",
       "\n",
       "    .dataframe thead th {\n",
       "        text-align: right;\n",
       "    }\n",
       "</style>\n",
       "<table border=\"1\" class=\"dataframe\">\n",
       "  <thead>\n",
       "    <tr style=\"text-align: right;\">\n",
       "      <th></th>\n",
       "      <th>nomeArq</th>\n",
       "      <th>largura</th>\n",
       "      <th>altura</th>\n",
       "      <th>media</th>\n",
       "      <th>variancia</th>\n",
       "      <th>skewness</th>\n",
       "      <th>kurtosis</th>\n",
       "      <th>energy</th>\n",
       "      <th>entropy</th>\n",
       "      <th>className</th>\n",
       "      <th>classId</th>\n",
       "    </tr>\n",
       "  </thead>\n",
       "  <tbody>\n",
       "    <tr>\n",
       "      <th>0</th>\n",
       "      <td>flowers/daisy/14021430525_e06baf93a9.jpg</td>\n",
       "      <td>240</td>\n",
       "      <td>240</td>\n",
       "      <td>229.482072</td>\n",
       "      <td>5.201105e+04</td>\n",
       "      <td>0.899909</td>\n",
       "      <td>-0.600774</td>\n",
       "      <td>0.088991</td>\n",
       "      <td>5.046967</td>\n",
       "      <td>daisy</td>\n",
       "      <td>0</td>\n",
       "    </tr>\n",
       "    <tr>\n",
       "      <th>1</th>\n",
       "      <td>flowers/daisy/16020253176_60f2a6a5ca_n.jpg</td>\n",
       "      <td>240</td>\n",
       "      <td>240</td>\n",
       "      <td>232.258065</td>\n",
       "      <td>6.599149e+04</td>\n",
       "      <td>1.217197</td>\n",
       "      <td>0.341232</td>\n",
       "      <td>0.094859</td>\n",
       "      <td>4.938162</td>\n",
       "      <td>daisy</td>\n",
       "      <td>0</td>\n",
       "    </tr>\n",
       "    <tr>\n",
       "      <th>2</th>\n",
       "      <td>flowers/daisy/7133935763_82b17c8e1b_n.jpg</td>\n",
       "      <td>240</td>\n",
       "      <td>240</td>\n",
       "      <td>225.000000</td>\n",
       "      <td>6.158387e+06</td>\n",
       "      <td>15.747844</td>\n",
       "      <td>247.560511</td>\n",
       "      <td>0.692164</td>\n",
       "      <td>2.022297</td>\n",
       "      <td>daisy</td>\n",
       "      <td>0</td>\n",
       "    </tr>\n",
       "    <tr>\n",
       "      <th>3</th>\n",
       "      <td>flowers/daisy/9515186037_3be48fe68f.jpg</td>\n",
       "      <td>240</td>\n",
       "      <td>240</td>\n",
       "      <td>225.000000</td>\n",
       "      <td>9.255158e+04</td>\n",
       "      <td>1.186620</td>\n",
       "      <td>-0.123340</td>\n",
       "      <td>0.105107</td>\n",
       "      <td>4.710460</td>\n",
       "      <td>daisy</td>\n",
       "      <td>0</td>\n",
       "    </tr>\n",
       "    <tr>\n",
       "      <th>4</th>\n",
       "      <td>flowers/daisy/15327813273_06cdf42210.jpg</td>\n",
       "      <td>240</td>\n",
       "      <td>240</td>\n",
       "      <td>238.016529</td>\n",
       "      <td>3.797228e+04</td>\n",
       "      <td>1.306960</td>\n",
       "      <td>1.009875</td>\n",
       "      <td>0.082681</td>\n",
       "      <td>5.190056</td>\n",
       "      <td>daisy</td>\n",
       "      <td>0</td>\n",
       "    </tr>\n",
       "    <tr>\n",
       "      <th>...</th>\n",
       "      <td>...</td>\n",
       "      <td>...</td>\n",
       "      <td>...</td>\n",
       "      <td>...</td>\n",
       "      <td>...</td>\n",
       "      <td>...</td>\n",
       "      <td>...</td>\n",
       "      <td>...</td>\n",
       "      <td>...</td>\n",
       "      <td>...</td>\n",
       "      <td>...</td>\n",
       "    </tr>\n",
       "    <tr>\n",
       "      <th>4312</th>\n",
       "      <td>flowers/dandelion/14053173516_a00150a919_m.jpg</td>\n",
       "      <td>240</td>\n",
       "      <td>240</td>\n",
       "      <td>247.210300</td>\n",
       "      <td>1.981962e+04</td>\n",
       "      <td>-0.134134</td>\n",
       "      <td>-1.084269</td>\n",
       "      <td>0.073726</td>\n",
       "      <td>5.289232</td>\n",
       "      <td>dandelion</td>\n",
       "      <td>4</td>\n",
       "    </tr>\n",
       "    <tr>\n",
       "      <th>4313</th>\n",
       "      <td>flowers/dandelion/16242239484_51286673af.jpg</td>\n",
       "      <td>240</td>\n",
       "      <td>240</td>\n",
       "      <td>293.877551</td>\n",
       "      <td>7.173307e+04</td>\n",
       "      <td>1.127515</td>\n",
       "      <td>1.025015</td>\n",
       "      <td>0.097166</td>\n",
       "      <td>4.793789</td>\n",
       "      <td>dandelion</td>\n",
       "      <td>4</td>\n",
       "    </tr>\n",
       "    <tr>\n",
       "      <th>4314</th>\n",
       "      <td>flowers/dandelion/2076141453_c63801962a_m.jpg</td>\n",
       "      <td>240</td>\n",
       "      <td>240</td>\n",
       "      <td>227.667984</td>\n",
       "      <td>4.754916e+04</td>\n",
       "      <td>1.499099</td>\n",
       "      <td>2.621634</td>\n",
       "      <td>0.087035</td>\n",
       "      <td>5.107898</td>\n",
       "      <td>dandelion</td>\n",
       "      <td>4</td>\n",
       "    </tr>\n",
       "    <tr>\n",
       "      <th>4315</th>\n",
       "      <td>flowers/dandelion/3021333497_b927cd8596.jpg</td>\n",
       "      <td>240</td>\n",
       "      <td>240</td>\n",
       "      <td>225.882353</td>\n",
       "      <td>1.926077e+06</td>\n",
       "      <td>15.785531</td>\n",
       "      <td>248.451103</td>\n",
       "      <td>0.390542</td>\n",
       "      <td>3.905978</td>\n",
       "      <td>dandelion</td>\n",
       "      <td>4</td>\n",
       "    </tr>\n",
       "    <tr>\n",
       "      <th>4316</th>\n",
       "      <td>flowers/dandelion/2229906591_e953785d13.jpg</td>\n",
       "      <td>240</td>\n",
       "      <td>240</td>\n",
       "      <td>227.667984</td>\n",
       "      <td>1.390672e+05</td>\n",
       "      <td>8.249467</td>\n",
       "      <td>85.189081</td>\n",
       "      <td>0.120982</td>\n",
       "      <td>4.981282</td>\n",
       "      <td>dandelion</td>\n",
       "      <td>4</td>\n",
       "    </tr>\n",
       "  </tbody>\n",
       "</table>\n",
       "<p>4317 rows × 11 columns</p>\n",
       "</div>"
      ],
      "text/plain": [
       "                                             nomeArq  largura  altura  \\\n",
       "0           flowers/daisy/14021430525_e06baf93a9.jpg      240     240   \n",
       "1         flowers/daisy/16020253176_60f2a6a5ca_n.jpg      240     240   \n",
       "2          flowers/daisy/7133935763_82b17c8e1b_n.jpg      240     240   \n",
       "3            flowers/daisy/9515186037_3be48fe68f.jpg      240     240   \n",
       "4           flowers/daisy/15327813273_06cdf42210.jpg      240     240   \n",
       "...                                              ...      ...     ...   \n",
       "4312  flowers/dandelion/14053173516_a00150a919_m.jpg      240     240   \n",
       "4313    flowers/dandelion/16242239484_51286673af.jpg      240     240   \n",
       "4314   flowers/dandelion/2076141453_c63801962a_m.jpg      240     240   \n",
       "4315     flowers/dandelion/3021333497_b927cd8596.jpg      240     240   \n",
       "4316     flowers/dandelion/2229906591_e953785d13.jpg      240     240   \n",
       "\n",
       "           media     variancia   skewness    kurtosis    energy   entropy  \\\n",
       "0     229.482072  5.201105e+04   0.899909   -0.600774  0.088991  5.046967   \n",
       "1     232.258065  6.599149e+04   1.217197    0.341232  0.094859  4.938162   \n",
       "2     225.000000  6.158387e+06  15.747844  247.560511  0.692164  2.022297   \n",
       "3     225.000000  9.255158e+04   1.186620   -0.123340  0.105107  4.710460   \n",
       "4     238.016529  3.797228e+04   1.306960    1.009875  0.082681  5.190056   \n",
       "...          ...           ...        ...         ...       ...       ...   \n",
       "4312  247.210300  1.981962e+04  -0.134134   -1.084269  0.073726  5.289232   \n",
       "4313  293.877551  7.173307e+04   1.127515    1.025015  0.097166  4.793789   \n",
       "4314  227.667984  4.754916e+04   1.499099    2.621634  0.087035  5.107898   \n",
       "4315  225.882353  1.926077e+06  15.785531  248.451103  0.390542  3.905978   \n",
       "4316  227.667984  1.390672e+05   8.249467   85.189081  0.120982  4.981282   \n",
       "\n",
       "      className  classId  \n",
       "0         daisy        0  \n",
       "1         daisy        0  \n",
       "2         daisy        0  \n",
       "3         daisy        0  \n",
       "4         daisy        0  \n",
       "...         ...      ...  \n",
       "4312  dandelion        4  \n",
       "4313  dandelion        4  \n",
       "4314  dandelion        4  \n",
       "4315  dandelion        4  \n",
       "4316  dandelion        4  \n",
       "\n",
       "[4317 rows x 11 columns]"
      ]
     },
     "execution_count": 25,
     "metadata": {},
     "output_type": "execute_result"
    }
   ],
   "source": [
    "matriz"
   ]
  },
  {
   "cell_type": "markdown",
   "id": "85df16c5",
   "metadata": {},
   "source": [
    "---\n",
    "## Scatter Plot\n",
    "Os gráficos de dispersão ou Scatter plot são representações gráficas do relacionamento entre duas variáveis numéricas. O Scatter plot utiliza pontos para representar essa relação, cada ponto representa o valor de uma variável no eixo horizontal e o valor de outra variável no eixo vertical.\n",
    "\n",
    "Fonte: https://www.flai.com.br/juscudilio/scatter-plot-um-guia-completo-para-graficos-de-dispersao/"
   ]
  },
  {
   "cell_type": "code",
   "execution_count": 3,
   "id": "5f5dd589",
   "metadata": {},
   "outputs": [],
   "source": [
    "matriz = pd.read_csv('matriz2.csv')"
   ]
  },
  {
   "cell_type": "code",
   "execution_count": 4,
   "id": "4a879c28",
   "metadata": {},
   "outputs": [
    {
     "data": {
      "text/plain": [
       "Index(['nomeArq', 'largura', 'altura', 'media', 'variancia', 'skewness',\n",
       "       'kurtosis', 'energy', 'entropy', 'className', 'classId'],\n",
       "      dtype='object')"
      ]
     },
     "execution_count": 4,
     "metadata": {},
     "output_type": "execute_result"
    }
   ],
   "source": [
    "matriz.keys()"
   ]
  },
  {
   "cell_type": "code",
   "execution_count": 5,
   "id": "fa0de6cf",
   "metadata": {},
   "outputs": [],
   "source": [
    "def manyShow(*imgs, color=None):\n",
    "    _, ax = plt.subplots(1, len(imgs), figsize=(20, 20),sharex=True)\n",
    "    for index, i in enumerate(ax):\n",
    "        i.imshow(imgs[index], cmap=color)\n",
    "        i.set_title(f'{imgs[index].shape}')\n",
    "        i.axis('off')"
   ]
  },
  {
   "cell_type": "code",
   "execution_count": 6,
   "id": "7b7991b1",
   "metadata": {},
   "outputs": [],
   "source": [
    "def manyShowWithTitle(*imgs, color=None):\n",
    "    _, ax = plt.subplots(1, len(imgs), figsize=(20, 20),sharex=True)\n",
    "    for index, i in enumerate(ax):\n",
    "        i.imshow(imgs[index]['img'], cmap=color)\n",
    "        i.set_title(f'{imgs[index][\"title\"]} \\n {imgs[index][\"img\"].shape}')\n",
    "        i.axis('off')"
   ]
  },
  {
   "cell_type": "code",
   "execution_count": 13,
   "id": "7fbd2cdc",
   "metadata": {},
   "outputs": [],
   "source": [
    "def scatterMostra(matriz, xlabel, ylabel, color='red'):\n",
    "    sns.scatterplot(x=matriz[xlabel], y=matriz[ylabel], hue=matriz['className'])\n",
    "    plt.title(f'{xlabel} x {ylabel}')\n",
    "    plt.show()"
   ]
  },
  {
   "cell_type": "code",
   "execution_count": 14,
   "id": "d93eb786",
   "metadata": {},
   "outputs": [
    {
     "data": {
      "image/png": "[encoded data removed]",
      "text/plain": [
       "<Figure size 432x288 with 1 Axes>"
      ]
     },
     "metadata": {
      "needs_background": "light"
     },
     "output_type": "display_data"
    },
    {
     "data": {
      "image/png": "[encoded data removed]",
      "text/plain": [
       "<Figure size 432x288 with 1 Axes>"
      ]
     },
     "metadata": {
      "needs_background": "light"
     },
     "output_type": "display_data"
    },
    {
     "data": {
      "image/png": "[encoded data removed]",
      "text/plain": [
       "<Figure size 432x288 with 1 Axes>"
      ]
     },
     "metadata": {
      "needs_background": "light"
     },
     "output_type": "display_data"
    }
   ],
   "source": [
    "scatterMostra(matriz, 'media', 'variancia')\n",
    "scatterMostra(matriz, 'skewness', 'kurtosis')\n",
    "scatterMostra(matriz, 'energy', 'entropy')"
   ]
  },
  {
   "cell_type": "code",
   "execution_count": null,
   "id": "3f89e253",
   "metadata": {},
   "outputs": [],
   "source": [
    "atributos = [ ['media', 'variancia'], ['skewness', 'kurtosis'], [ 'energy', 'entropy'] ]\n",
    "# scatter plot with matplotlib"
   ]
  },
  {
   "cell_type": "code",
   "execution_count": null,
   "id": "78cfe22c",
   "metadata": {},
   "outputs": [],
   "source": [
    "plt.scatter(matriz[atributos[1][0]], matriz[atributos[1][1]])"
   ]
  },
  {
   "cell_type": "code",
   "execution_count": null,
   "id": "2aa6144e",
   "metadata": {},
   "outputs": [],
   "source": [
    "plt.scatter(matriz[atributos[2][0]], matriz[atributos[2][1]])"
   ]
  },
  {
   "cell_type": "code",
   "execution_count": 28,
   "id": "01299366",
   "metadata": {},
   "outputs": [],
   "source": [
    "def plotaScatter(matriz, x, y, tamanho=400, titulo=\"Scatter Plot\", xLabel=\"X\", yLabel=\"Y\"):\n",
    "    fig  = px.scatter(matriz, x=x, y =y, log_x = True, width=tamanho+300, height=tamanho)\n",
    "    fig.update_traces(marker = dict(size = 4, line=dict(width = 2)), selector = dict(mode = 'markers'))\n",
    "    fig.update_layout(title = titulo)\n",
    "    fig.update_xaxes(title = xLabel)\n",
    "    fig.update_yaxes(title = yLabel)\n",
    "    fig.show()"
   ]
  },
  {
   "cell_type": "markdown",
   "id": "7a6b2547",
   "metadata": {},
   "source": [
    "---\n",
    "## Classificação"
   ]
  },
  {
   "cell_type": "code",
   "execution_count": 52,
   "id": "a78f1aa7",
   "metadata": {},
   "outputs": [],
   "source": [
    "def classification(X,y):\n",
    "\n",
    "    \"\"\"\n",
    "    X é uma matriz onde cada linha corresponde aos atributos calculados com o descritor\n",
    "    y são os rótulos da classe de cada imagem. Exemplo [0,1,0,0,1,2,2,0,0,0,...,1]\n",
    "    \"\"\"\n",
    "    \n",
    "    # separar conjuntos de treino e teste\n",
    "    X_train,X_test,y_train,y_test = train_test_split(X,y,train_size=0.7,shuffle=True, random_state=42)\n",
    "    # criar instancia do classificador\n",
    "    clf = mlp()\n",
    "    # treinar o classificador\n",
    "    clf.fit(X_train,y_train)\n",
    "    # realizar a predicao\n",
    "    pred = clf.predict(X_test)\n",
    "    # calcular o resultado utilizando a acuracia\n",
    "    acuracia = acc(y_test,pred)\n",
    "    \n",
    "    return acuracia"
   ]
  },
  {
   "cell_type": "code",
   "execution_count": 53,
   "id": "3eaf0bd4",
   "metadata": {},
   "outputs": [],
   "source": [
    "def classificationForest(X,y):\n",
    "\n",
    "    \n",
    "    \"\"\" com random forest \"\"\"\n",
    "\n",
    "    # separar conjuntos de treino e teste\n",
    "    X_train,X_test,y_train,y_test = train_test_split(X,y,train_size=0.7,shuffle=True, random_state=42)\n",
    "    # criar instancia do classificador\n",
    "    clf = rfc()\n",
    "    # treinar o classificador\n",
    "    clf.fit(X_train,y_train)\n",
    "    # realizar a predicao\n",
    "    pred = clf.predict(X_test)\n",
    "    # calcular o resultado utilizando a acuracia\n",
    "    acuracia = acc(y_test,pred)\n",
    "    \n",
    "\n",
    "\n",
    "    return acuracia"
   ]
  },
  {
   "cell_type": "code",
   "execution_count": 69,
   "id": "bd527ff5",
   "metadata": {},
   "outputs": [],
   "source": [
    "def classificationSVM(X, y):\n",
    "    svc = SVC(gamma=\"auto\")\n",
    "    #cv_result = cross_val_score(svc, X, y, cv=10, scoring=\"accuracy\")\n",
    "\n",
    "    X_train,X_test,y_train,y_test = train_test_split(X,y,train_size=0.7,shuffle=True)\n",
    "    # criar instancia do classificador\n",
    "    clf = svc\n",
    "    # treinar o classificador\n",
    "    clf.fit(X_train,y_train)\n",
    "    # realizar a predicao\n",
    "    pred = clf.predict(X_test)\n",
    "    # calcular o resultado utilizando a acuracia\n",
    "    acuracia = acc(y_test,pred)\n",
    "\n",
    "\n",
    "    return acuracia\n"
   ]
  },
  {
   "cell_type": "code",
   "execution_count": 80,
   "id": "287daf5a",
   "metadata": {},
   "outputs": [],
   "source": [
    "def classificationXBR(X, y):\n",
    "    X_train,X_test,y_train,y_test = train_test_split(X,y,train_size=0.7,shuffle=True)\n",
    "    # criar instancia do classificador\n",
    "    clf = xgb.XGBClassifier()\n",
    "    # treinar o classificador\n",
    "    clf.fit(X_train,y_train)\n",
    "    # realizar a predicao\n",
    "    pred = clf.predict(X_test)\n",
    "    # calcular o resultado utilizando a acuracia\n",
    "    acuracia = acc(y_test,pred)\n",
    "\n",
    "    return acuracia\n",
    "    "
   ]
  },
  {
   "cell_type": "code",
   "execution_count": 32,
   "id": "cf2952d3",
   "metadata": {},
   "outputs": [
    {
     "name": "stdout",
     "output_type": "stream",
     "text": [
      "3 4 5 6 7 8 10\n"
     ]
    }
   ],
   "source": [
    "print(\n",
    "    list(matriz.keys()).index('media'),\n",
    "    list(matriz.keys()).index('variancia'),\n",
    "    list(matriz.keys()).index('skewness'),\n",
    "    list(matriz.keys()).index('kurtosis'),\n",
    "    list(matriz.keys()).index('energy'),\n",
    "    list(matriz.keys()).index('entropy'),\n",
    "    list(matriz.keys()).index('classId')\n",
    ")"
   ]
  },
  {
   "cell_type": "code",
   "execution_count": 33,
   "id": "7f772fce",
   "metadata": {},
   "outputs": [],
   "source": [
    "# cria um array normal com os dados: media, variancia, skewness, kurtosis, energy, entropy\n",
    "def pegaMatrizAux(matriz):\n",
    "    atual = 0\n",
    "    cont = 733\n",
    "    aux = []\n",
    "    y = []\n",
    "    for i in matriz.values:\n",
    "        n = list(i)\n",
    "        if n[10] == atual:\n",
    "            aux.append([n[3], n[4], n[5], n[6], n[7], n[8]])\n",
    "            y.append(n[10])\n",
    "            cont -= 1\n",
    "        \n",
    "        if cont == 0:\n",
    "            atual += 1\n",
    "            cont = 733\n",
    "\n",
    "    return aux, y"
   ]
  },
  {
   "cell_type": "code",
   "execution_count": 34,
   "id": "a357f783",
   "metadata": {},
   "outputs": [],
   "source": [
    "aux, y = pegaMatrizAux(matriz)"
   ]
  },
  {
   "cell_type": "code",
   "execution_count": 54,
   "id": "10a311d6",
   "metadata": {},
   "outputs": [
    {
     "data": {
      "text/plain": [
       "'Acuracia MLP: 19.508867667121418 %'"
      ]
     },
     "execution_count": 54,
     "metadata": {},
     "output_type": "execute_result"
    }
   ],
   "source": [
    "f\"Acuracia MLP: {(classification(aux, y)* 100)} %\""
   ]
  },
  {
   "cell_type": "code",
   "execution_count": 36,
   "id": "7bc8a7c6",
   "metadata": {},
   "outputs": [
    {
     "data": {
      "text/plain": [
       "'Acuracia RandomForest: 25.517993456924753 %'"
      ]
     },
     "execution_count": 36,
     "metadata": {},
     "output_type": "execute_result"
    }
   ],
   "source": [
    "f\"Acuracia RandomForest: {(classificationForest(aux, y) * 100)} %\""
   ]
  },
  {
   "cell_type": "code",
   "execution_count": 77,
   "id": "07a62e6f",
   "metadata": {},
   "outputs": [
    {
     "data": {
      "text/plain": [
       "'Acuracia SVM: 18.454545454545453 %'"
      ]
     },
     "execution_count": 77,
     "metadata": {},
     "output_type": "execute_result"
    }
   ],
   "source": [
    "f\"Acuracia SVM: {(classificationSVM(aux, y) * 100)} %\""
   ]
  },
  {
   "cell_type": "code",
   "execution_count": 81,
   "id": "e2ddfc0a",
   "metadata": {},
   "outputs": [
    {
     "data": {
      "text/plain": [
       "'Acuracia XBR: 24.09090909090909 %'"
      ]
     },
     "execution_count": 81,
     "metadata": {},
     "output_type": "execute_result"
    }
   ],
   "source": [
    "f\"Acuracia XBR: {(classificationXBR(aux, y) * 100)} %\""
   ]
  },
  {
   "cell_type": "code",
   "execution_count": 82,
   "id": "0141715b",
   "metadata": {},
   "outputs": [],
   "source": [
    "def pegaMelhores(aux, y, qnt):\n",
    "    resultadosMLP = []\n",
    "    resultadosRF = []\n",
    "    resultadosSVM = []\n",
    "    resultadosXBR = []\n",
    "    for i in tqdm.tqdm(range(qnt)):\n",
    "        resultadosMLP.append(classification(aux, y))\n",
    "        resultadosRF.append(classificationForest(aux, y))\n",
    "        resultadosSVM.append(classificationSVM(aux, y))\n",
    "        resultadosXBR.append(classificationXBR(aux, y))\n",
    "        \n",
    "    return resultadosMLP, resultadosRF, resultadosSVM, resultadosXBR"
   ]
  },
  {
   "cell_type": "code",
   "execution_count": 83,
   "id": "f79497dc",
   "metadata": {},
   "outputs": [
    {
     "name": "stderr",
     "output_type": "stream",
     "text": [
      "100%|██████████| 20/20 [00:48<00:00,  2.41s/it]\n"
     ]
    }
   ],
   "source": [
    "melhoresMLP, melhoresRF, melhoresSVM, melhoresXBR = pegaMelhores(aux, y, 20)"
   ]
  },
  {
   "cell_type": "code",
   "execution_count": 87,
   "id": "a966933a",
   "metadata": {},
   "outputs": [
    {
     "name": "stdout",
     "output_type": "stream",
     "text": [
      "Melhores: \n",
      "\t MLP: 0.25102319236016374 \n",
      "\t RF: 0.2595419847328244 \n",
      "\t SVM: 0.20272727272727273 \n",
      "\t XBR: 0.27545454545454545\n"
     ]
    }
   ],
   "source": [
    "print(f'Melhores: \\n\\t MLP: {max(melhoresMLP)} \\n\\t RF: {max(melhoresRF)} \\n\\t SVM: {max(melhoresSVM)} \\n\\t XBR: {max(melhoresXBR)}')\n"
   ]
  },
  {
   "cell_type": "code",
   "execution_count": 88,
   "id": "8b311834",
   "metadata": {},
   "outputs": [
    {
     "name": "stdout",
     "output_type": "stream",
     "text": [
      "Média: \n",
      "\t MLP: 0.2140518417462483 \n",
      "\t RF: 0.2483642311886587 \n",
      "\t SVM: 0.1895909090909091 \n",
      "\t XBR: 0.2514090909090909\n"
     ]
    }
   ],
   "source": [
    "print(f'Média: \\n\\t MLP: {np.mean(melhoresMLP)} \\n\\t RF: {np.mean(melhoresRF)} \\n\\t SVM: {np.mean(melhoresSVM)} \\n\\t XBR: {np.mean(melhoresXBR)}')"
   ]
  },
  {
   "cell_type": "code",
   "execution_count": 89,
   "id": "c336e70b",
   "metadata": {},
   "outputs": [
    {
     "name": "stdout",
     "output_type": "stream",
     "text": [
      "Piores: \n",
      "\t MLP: 0.19236016371077763 \n",
      "\t RF: 0.23773173391494 \n",
      "\t SVM: 0.1781818181818182 \n",
      "\t XBR: 0.2318181818181818\n"
     ]
    }
   ],
   "source": [
    "print(f'Piores: \\n\\t MLP: {min(melhoresMLP)} \\n\\t RF: {min(melhoresRF)} \\n\\t SVM: {min(melhoresSVM)} \\n\\t XBR: {min(melhoresXBR)}')"
   ]
  }
 ],
 "metadata": {
  "kernelspec": {
   "display_name": "Python 3 (ipykernel)",
   "language": "python",
   "name": "python3"
  },
  "language_info": {
   "codemirror_mode": {
    "name": "ipython",
    "version": 3
   },
   "file_extension": ".py",
   "mimetype": "text/x-python",
   "name": "python",
   "nbconvert_exporter": "python",
   "pygments_lexer": "ipython3",
   "version": "3.8.10 (default, Nov 14 2022, 12:59:47) \n[GCC 9.4.0]"
  },
  "vscode": {
   "interpreter": {
    "hash": "916dbcbb3f70747c44a77c7bcd40155683ae19c65e1c03b4aa3499c5328201f1"
   }
  }
 },
 "nbformat": 4,
 "nbformat_minor": 5
}
