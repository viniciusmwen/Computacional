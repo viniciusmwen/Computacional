{
 "cells": [
  {
   "cell_type": "code",
   "execution_count": 2,
   "id": "eb69dad5",
   "metadata": {},
   "outputs": [
    {
     "name": "stderr",
     "output_type": "stream",
     "text": [
      "/home/vinicius/.local/lib/python3.8/site-packages/pandas/core/computation/expressions.py:20: UserWarning: Pandas requires version '2.7.3' or newer of 'numexpr' (version '2.7.1' currently installed).\n",
      "  from pandas.core.computation.check import NUMEXPR_INSTALLED\n"
     ]
    }
   ],
   "source": [
    "import numpy as np\n",
    "import matplotlib.pyplot as plt\n",
    "import pandas as pd\n",
    "import os\n",
    "from glob import glob\n",
    "import csv\n",
    "import cv2\n",
    "from skimage.exposure import histogram\n",
    "from scipy.stats import skew, kurtosis, entropy\n",
    "from skimage.feature import graycoprops,graycomatrix"
   ]
  },
  {
   "cell_type": "code",
   "execution_count": 27,
   "id": "54fbe88e",
   "metadata": {},
   "outputs": [],
   "source": [
    "dataset = {\n",
    "    \"alongamento\":['../dataset/alongamento/teste_1','../dataset/alongamento/teste_2',\n",
    "                   '../dataset/alongamento/teste_3','../dataset/alongamento/teste_4'],\n",
    "    \"logaritmo\":['../dataset/logaritmico/teste_1','../dataset/logaritmico/teste_2',\n",
    "                '../dataset/logaritmico/teste_3','../dataset/logaritmico/teste_4'],\n",
    "    \"negativo\":['../dataset/negativo/teste_1'],\n",
    "    \"potencia\":['../dataset/potencia/teste_1','../dataset/potencia/teste_2',\n",
    "                '../dataset/potencia/teste_3','../dataset/potencia/teste_4']\n",
    "    }"
   ]
  },
  {
   "cell_type": "code",
   "execution_count": 3,
   "id": "89a821be",
   "metadata": {},
   "outputs": [],
   "source": [
    "# Função criada para a leitura de uma imagem em escala cinza.\n",
    "def Ler_Cinza(Imagem):\n",
    "    Img = cv2.imread(Imagem)\n",
    "    Img = cv2.cvtColor(Img, cv2.COLOR_BGR2GRAY)\n",
    "    return Img"
   ]
  },
  {
   "cell_type": "code",
   "execution_count": 4,
   "id": "4bd58c93",
   "metadata": {},
   "outputs": [],
   "source": [
    "def Descritor_Histograma(Imagem):\n",
    "    Img = Ler_Cinza(Imagem)\n",
    "    His = histogram(Img,nbins=256)\n",
    "    HValues = His[0]\n",
    "    Mean = HValues.mean()\n",
    "    Var = HValues.var()\n",
    "    Skew = skew(HValues)\n",
    "    Kur = kurtosis(HValues)\n",
    "    Sub = graycomatrix(Img,[0],[0])\n",
    "    Atr = graycoprops(Sub,'energy')\n",
    "    Ener = Atr[0][0]\n",
    "    Ent = entropy(HValues)  \n",
    "    return {\n",
    "        'histograma': HValues, \n",
    "        'media': Mean, \n",
    "        'var': Var,\n",
    "        'skewness': Skew, \n",
    "        'kurtosis': Kur, \n",
    "        'energy': Ener, \n",
    "        'entropy': Ent}"
   ]
  },
  {
   "cell_type": "code",
   "execution_count": 5,
   "id": "2dc04714",
   "metadata": {},
   "outputs": [],
   "source": [
    "def ContabilizaTamanho(Dataset):\n",
    "    Tamanhos = {'Total': 0}\n",
    "    for Classe in Dataset:\n",
    "        Tamanhos[Classe] = len(Dataset[Classe])\n",
    "        Tamanhos['Total'] += Tamanhos[Classe]\n",
    "    Dataset['Tamanhos'] = Tamanhos\n",
    "    return Dataset"
   ]
  },
  {
   "cell_type": "code",
   "execution_count": 13,
   "id": "6113f5d2",
   "metadata": {},
   "outputs": [],
   "source": [
    "def LeituraDataset(DatasetName):\n",
    "    Dataset = {}\n",
    "    for Classe in os.listdir(DatasetName):\n",
    "        Dataset[Classe] = glob(f'{DatasetName}/{Classe}/*',recursive=True)\n",
    "    Dataset = ContabilizaTamanho(Dataset)\n",
    "    return Dataset"
   ]
  },
  {
   "cell_type": "code",
   "execution_count": 34,
   "id": "4a61d1d4",
   "metadata": {},
   "outputs": [],
   "source": [
    "def LinhaCSV(Dados, Arquivo='Matriz.csv'):\n",
    "    # Ordem: NomeArquivo,Largura, Altura, Média,\n",
    "    # Variância, Skewness,Kurtosis, Energy, Entropy, NomeClasse, ClasseId\n",
    "    linha = [Dados['img'], Dados['largura'], Dados['altura'], Dados['media'],\n",
    "             Dados['var'], Dados['skewness'], Dados['kurtosis'], Dados['energy'],\n",
    "             Dados['entropy'], Dados['classe'], Dados['classeId']]\n",
    "    with open(Arquivo,'a') as csvFile:\n",
    "        writer = csv.writer(csvFile)\n",
    "        writer.writerow(linha)"
   ]
  },
  {
   "cell_type": "code",
   "execution_count": 38,
   "id": "ad6e36bc",
   "metadata": {},
   "outputs": [],
   "source": [
    "def CriaMatriz(Dataset,Arquivo):\n",
    "    Matriz = []\n",
    "    Count = 0\n",
    "    for index, classe in enumerate(Dataset):\n",
    "        print(f'Inserindo dados da classe {index} referente as {classe}')\n",
    "        for img in Dataset[classe]:\n",
    "            if Count < 4317:\n",
    "                img2 = Ler_Cinza(img)\n",
    "                descritor = Descritor_Histograma(img)\n",
    "                descritor['classe'] = classe\n",
    "                descritor['img'] = img\n",
    "                descritor['classeId'] = index\n",
    "                descritor['largura'], descritor['altura'] = img2.shape\n",
    "                LinhaCSV(descritor, Arquivo)\n",
    "                Count += 1"
   ]
  },
  {
   "cell_type": "code",
   "execution_count": 39,
   "id": "d9d9fd78",
   "metadata": {},
   "outputs": [],
   "source": [
    "def MatrizDatasets(Datasets):\n",
    "    for Ds in Datasets:\n",
    "        # print(Ds)\n",
    "        cont = 0\n",
    "        # print(Datasets[Ds])\n",
    "        for Caminhos in Datasets[Ds]:\n",
    "            print(Caminhos)\n",
    "            Dataset = LeituraDataset(Caminhos)\n",
    "            CriaMatriz(Dataset,'Matriz'+'-'+str(Ds)+'-'+str(cont)+'.csv')\n",
    "            cont+=1\n",
    "            "
   ]
  },
  {
   "cell_type": "code",
   "execution_count": 41,
   "id": "03a8bfed",
   "metadata": {},
   "outputs": [
    {
     "name": "stdout",
     "output_type": "stream",
     "text": [
      "../dataset/alongamento/teste_1\n",
      "Inserindo dados da classe 0 referente as daisy\n",
      "Inserindo dados da classe 1 referente as rose\n",
      "Inserindo dados da classe 2 referente as tulip\n",
      "Inserindo dados da classe 3 referente as sunflower\n",
      "Inserindo dados da classe 4 referente as dandelion\n",
      "Inserindo dados da classe 5 referente as Tamanhos\n",
      "../dataset/alongamento/teste_2\n",
      "Inserindo dados da classe 0 referente as daisy\n",
      "Inserindo dados da classe 1 referente as rose\n",
      "Inserindo dados da classe 2 referente as tulip\n",
      "Inserindo dados da classe 3 referente as sunflower\n",
      "Inserindo dados da classe 4 referente as dandelion\n",
      "Inserindo dados da classe 5 referente as Tamanhos\n",
      "../dataset/alongamento/teste_3\n",
      "Inserindo dados da classe 0 referente as daisy\n",
      "Inserindo dados da classe 1 referente as rose\n",
      "Inserindo dados da classe 2 referente as tulip\n",
      "Inserindo dados da classe 3 referente as sunflower\n",
      "Inserindo dados da classe 4 referente as dandelion\n",
      "Inserindo dados da classe 5 referente as Tamanhos\n",
      "../dataset/alongamento/teste_4\n",
      "Inserindo dados da classe 0 referente as daisy\n",
      "Inserindo dados da classe 1 referente as rose\n",
      "Inserindo dados da classe 2 referente as tulip\n",
      "Inserindo dados da classe 3 referente as sunflower\n",
      "Inserindo dados da classe 4 referente as dandelion\n",
      "Inserindo dados da classe 5 referente as Tamanhos\n",
      "../dataset/logaritmico/teste_1\n",
      "Inserindo dados da classe 0 referente as daisy\n",
      "Inserindo dados da classe 1 referente as rose\n",
      "Inserindo dados da classe 2 referente as tulip\n",
      "Inserindo dados da classe 3 referente as sunflower\n",
      "Inserindo dados da classe 4 referente as dandelion\n",
      "Inserindo dados da classe 5 referente as Tamanhos\n",
      "../dataset/logaritmico/teste_2\n",
      "Inserindo dados da classe 0 referente as daisy\n",
      "Inserindo dados da classe 1 referente as rose\n",
      "Inserindo dados da classe 2 referente as tulip\n",
      "Inserindo dados da classe 3 referente as sunflower\n",
      "Inserindo dados da classe 4 referente as dandelion\n",
      "Inserindo dados da classe 5 referente as Tamanhos\n",
      "../dataset/logaritmico/teste_3\n",
      "Inserindo dados da classe 0 referente as daisy\n",
      "Inserindo dados da classe 1 referente as rose\n",
      "Inserindo dados da classe 2 referente as tulip\n",
      "Inserindo dados da classe 3 referente as sunflower\n",
      "Inserindo dados da classe 4 referente as dandelion\n",
      "Inserindo dados da classe 5 referente as Tamanhos\n",
      "../dataset/logaritmico/teste_4\n",
      "Inserindo dados da classe 0 referente as daisy\n",
      "Inserindo dados da classe 1 referente as rose\n",
      "Inserindo dados da classe 2 referente as tulip\n",
      "Inserindo dados da classe 3 referente as sunflower\n",
      "Inserindo dados da classe 4 referente as dandelion\n",
      "Inserindo dados da classe 5 referente as Tamanhos\n",
      "../dataset/negativo/teste_1\n",
      "Inserindo dados da classe 0 referente as daisy\n",
      "Inserindo dados da classe 1 referente as rose\n",
      "Inserindo dados da classe 2 referente as tulip\n",
      "Inserindo dados da classe 3 referente as sunflower\n",
      "Inserindo dados da classe 4 referente as dandelion\n",
      "Inserindo dados da classe 5 referente as Tamanhos\n",
      "../dataset/potencia/teste_1\n",
      "Inserindo dados da classe 0 referente as daisy\n",
      "Inserindo dados da classe 1 referente as rose\n",
      "Inserindo dados da classe 2 referente as tulip\n",
      "Inserindo dados da classe 3 referente as sunflower\n",
      "Inserindo dados da classe 4 referente as dandelion\n",
      "Inserindo dados da classe 5 referente as Tamanhos\n",
      "../dataset/potencia/teste_2\n",
      "Inserindo dados da classe 0 referente as daisy\n",
      "Inserindo dados da classe 1 referente as rose\n",
      "Inserindo dados da classe 2 referente as tulip\n",
      "Inserindo dados da classe 3 referente as sunflower\n",
      "Inserindo dados da classe 4 referente as dandelion\n",
      "Inserindo dados da classe 5 referente as Tamanhos\n",
      "../dataset/potencia/teste_3\n",
      "Inserindo dados da classe 0 referente as daisy\n",
      "Inserindo dados da classe 1 referente as rose\n",
      "Inserindo dados da classe 2 referente as tulip\n",
      "Inserindo dados da classe 3 referente as sunflower\n",
      "Inserindo dados da classe 4 referente as dandelion\n",
      "Inserindo dados da classe 5 referente as Tamanhos\n",
      "../dataset/potencia/teste_4\n",
      "Inserindo dados da classe 0 referente as daisy\n",
      "Inserindo dados da classe 1 referente as rose\n",
      "Inserindo dados da classe 2 referente as tulip\n",
      "Inserindo dados da classe 3 referente as sunflower\n",
      "Inserindo dados da classe 4 referente as dandelion\n",
      "Inserindo dados da classe 5 referente as Tamanhos\n"
     ]
    }
   ],
   "source": [
    "MatrizDatasets(dataset)"
   ]
  },
  {
   "cell_type": "code",
   "execution_count": null,
   "id": "128b168d",
   "metadata": {},
   "outputs": [],
   "source": []
  }
 ],
 "metadata": {
  "kernelspec": {
   "display_name": "Python 3 (ipykernel)",
   "language": "python",
   "name": "python3"
  },
  "language_info": {
   "codemirror_mode": {
    "name": "ipython",
    "version": 3
   },
   "file_extension": ".py",
   "mimetype": "text/x-python",
   "name": "python",
   "nbconvert_exporter": "python",
   "pygments_lexer": "ipython3",
   "version": "3.8.10"
  }
 },
 "nbformat": 4,
 "nbformat_minor": 5
}
