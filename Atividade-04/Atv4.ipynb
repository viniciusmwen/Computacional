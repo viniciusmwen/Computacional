{
 "cells": [
  {
   "cell_type": "code",
   "execution_count": 3,
   "metadata": {},
   "outputs": [],
   "source": [
    "import numpy as np\n",
    "import matplotlib.pyplot as plt\n",
    "import pandas as pd\n",
    "from skimage.io import imread,imsave,imshow\n",
    "from skimage.color import rgb2gray\n",
    "from scipy.stats import norm, kurtosis, entropy, skew\n",
    "from skimage.feature import graycoprops,graycomatrix\n",
    "import cv2\n",
    "from glob import glob\n",
    "import os\n",
    "import csv\n",
    "import plotly.express as px\n",
    "from sklearn.model_selection import train_test_split\n",
    "from sklearn.neural_network import MLPClassifier as mlp\n",
    "from sklearn.metrics import accuracy_score as acc\n",
    "import math\n",
    "import random"
   ]
  },
  {
   "cell_type": "code",
   "execution_count": 10,
   "metadata": {},
   "outputs": [],
   "source": [
    "def geraNum(n, tipo='i'):\n",
    "    resultado = []\n",
    "    for i in range(n):\n",
    "        if tipo == 'i':\n",
    "            resultado.append(random.randint(0, 100))\n",
    "        else:\n",
    "            resultado.append(round(random.uniform(0, 1), 3))\n",
    "    return resultado\n",
    "\n",
    "def geraValoresRandom():\n",
    "    k = geraNum(4)\n",
    "    e = geraNum(4)\n",
    "    c = geraNum(4)\n",
    "    gama = geraNum(4, 'f')\n",
    "    return k, e, c, gama\n"
   ]
  },
  {
   "cell_type": "code",
   "execution_count": 11,
   "metadata": {},
   "outputs": [],
   "source": [
    "k, e, c, gama = geraValoresRandom()"
   ]
  },
  {
   "attachments": {},
   "cell_type": "markdown",
   "metadata": {},
   "source": [
    "### Alongamento:\n",
    "\n",
    "Fórmula:\n",
    "    $$ s = T(r) = \\frac{1}{1 + \\frac{k}{r}^{E} }  $$\n",
    "<ul>\n",
    "    <li> k é a constante de alongamento</li>\n",
    "    <li> E é o expoente de alongamento</li>\n",
    "    <li> r é o pixel calculado em questão</li>\n",
    "</ul>"
   ]
  },
  {
   "cell_type": "code",
   "execution_count": null,
   "metadata": {},
   "outputs": [],
   "source": [
    "def alongamento(k, r, e):\n",
    "    return 1 / ( 1 + ( ( k / r ) ** e ) )"
   ]
  },
  {
   "attachments": {},
   "cell_type": "markdown",
   "metadata": {},
   "source": [
    "### Negativo:\n",
    "\n",
    "Fórmula:\n",
    "    $$s = L - 1 - r$$"
   ]
  },
  {
   "cell_type": "code",
   "execution_count": null,
   "metadata": {},
   "outputs": [],
   "source": [
    "def negativo(r, l=255):\n",
    "    return l - 1 - r"
   ]
  },
  {
   "attachments": {},
   "cell_type": "markdown",
   "metadata": {},
   "source": [
    "### Logarítmico:\n",
    "\n",
    "Fórmula:\n",
    "    $$s = c\\log(1+r)$$"
   ]
  },
  {
   "cell_type": "code",
   "execution_count": null,
   "metadata": {},
   "outputs": [],
   "source": [
    "def logaritmico(r, c):\n",
    "    return c * math.log(1 + r)"
   ]
  },
  {
   "attachments": {},
   "cell_type": "markdown",
   "metadata": {},
   "source": [
    "### Potência:\n",
    "\n",
    "Fórmula:\n",
    "    $$s = cr^{\\gamma}$$"
   ]
  },
  {
   "cell_type": "code",
   "execution_count": null,
   "metadata": {},
   "outputs": [],
   "source": [
    "def potencia(c, r, gama):\n",
    "    return c * (r ** gama)"
   ]
  }
 ],
 "metadata": {
  "kernelspec": {
   "display_name": "Python 3",
   "language": "python",
   "name": "python3"
  },
  "language_info": {
   "codemirror_mode": {
    "name": "ipython",
    "version": 3
   },
   "file_extension": ".py",
   "mimetype": "text/x-python",
   "name": "python",
   "nbconvert_exporter": "python",
   "pygments_lexer": "ipython3",
   "version": "3.8.10 (default, Nov 14 2022, 12:59:47) \n[GCC 9.4.0]"
  },
  "orig_nbformat": 4,
  "vscode": {
   "interpreter": {
    "hash": "916dbcbb3f70747c44a77c7bcd40155683ae19c65e1c03b4aa3499c5328201f1"
   }
  }
 },
 "nbformat": 4,
 "nbformat_minor": 2
}
