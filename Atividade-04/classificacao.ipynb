{
 "cells": [
  {
   "attachments": {},
   "cell_type": "markdown",
   "metadata": {},
   "source": [
    "## Bibliotecas"
   ]
  },
  {
   "cell_type": "code",
   "execution_count": 1,
   "metadata": {},
   "outputs": [],
   "source": [
    "import numpy as np\n",
    "import matplotlib.pyplot as plt\n",
    "import pandas as pd\n",
    "from skimage.io import imread,imsave,imshow\n",
    "from skimage.color import rgb2gray\n",
    "from scipy.stats import norm, kurtosis, entropy, skew\n",
    "from skimage.feature import graycoprops,graycomatrix\n",
    "import cv2\n",
    "from glob import glob\n",
    "import os\n",
    "import csv\n",
    "import plotly.express as px\n",
    "from sklearn.ensemble import RandomForestClassifier as rfc\n",
    "from sklearn.model_selection import train_test_split\n",
    "from sklearn.neural_network import MLPClassifier as mlp\n",
    "from sklearn.metrics import accuracy_score as acc\n",
    "from sklearn.model_selection import cross_val_score # Cross Validation Function.\n",
    "from sklearn.model_selection import KFold # KFold Class.\n",
    "from sklearn.linear_model import LinearRegression # Linear Regression class.\n",
    "from skimage.exposure import histogram\n",
    "import tqdm\n",
    "from sklearn.svm import SVC\n",
    "import xgboost as xgb"
   ]
  },
  {
   "attachments": {},
   "cell_type": "markdown",
   "metadata": {},
   "source": [
    "## Classificadores"
   ]
  },
  {
   "attachments": {},
   "cell_type": "markdown",
   "metadata": {},
   "source": [
    "### MLP"
   ]
  },
  {
   "cell_type": "code",
   "execution_count": 2,
   "id": "a78f1aa7",
   "metadata": {},
   "outputs": [],
   "source": [
    "def classification(X,y):\n",
    "\n",
    "    \"\"\"\n",
    "    X é uma matriz onde cada linha corresponde aos atributos calculados com o descritor\n",
    "    y são os rótulos da classe de cada imagem. Exemplo [0,1,0,0,1,2,2,0,0,0,...,1]\n",
    "    \"\"\"\n",
    "    \n",
    "    # separar conjuntos de treino e teste\n",
    "    X_train,X_test,y_train,y_test = train_test_split(X,y,train_size=0.8,shuffle=True, random_state=42)\n",
    "    # criar instancia do classificador\n",
    "    clf = mlp()\n",
    "    # treinar o classificador\n",
    "    clf.fit(X_train,y_train)\n",
    "    # realizar a predicao\n",
    "    pred = clf.predict(X_test)\n",
    "    # calcular o resultado utilizando a acuracia\n",
    "    acuracia = acc(y_test,pred)\n",
    "    \n",
    "    return acuracia"
   ]
  },
  {
   "attachments": {},
   "cell_type": "markdown",
   "metadata": {},
   "source": [
    "### Random Forest"
   ]
  },
  {
   "cell_type": "code",
   "execution_count": 3,
   "id": "3eaf0bd4",
   "metadata": {},
   "outputs": [],
   "source": [
    "def classificationForest(X,y):\n",
    "\n",
    "    \n",
    "    \"\"\" com random forest \"\"\"\n",
    "\n",
    "    # separar conjuntos de treino e teste\n",
    "    X_train,X_test,y_train,y_test = train_test_split(X,y,train_size=0.75,shuffle=True, random_state=42)\n",
    "    # criar instancia do classificador\n",
    "    clf = rfc()\n",
    "    # treinar o classificador\n",
    "    clf.fit(X_train,y_train)\n",
    "    # realizar a predicao\n",
    "    pred = clf.predict(X_test)\n",
    "    # calcular o resultado utilizando a acuracia\n",
    "    acuracia = acc(y_test,pred)\n",
    "    \n",
    "\n",
    "\n",
    "    return acuracia"
   ]
  },
  {
   "attachments": {},
   "cell_type": "markdown",
   "metadata": {},
   "source": [
    "### SVM"
   ]
  },
  {
   "cell_type": "code",
   "execution_count": 4,
   "id": "bd527ff5",
   "metadata": {},
   "outputs": [],
   "source": [
    "def classificationSVM(X, y):\n",
    "    svc = SVC(gamma=\"auto\")\n",
    "    #cv_result = cross_val_score(svc, X, y, cv=10, scoring=\"accuracy\")\n",
    "\n",
    "    X_train,X_test,y_train,y_test = train_test_split(X,y,train_size=0.7,shuffle=True)\n",
    "    # criar instancia do classificador\n",
    "    clf = svc\n",
    "    # treinar o classificador\n",
    "    clf.fit(X_train,y_train)\n",
    "    # realizar a predicao\n",
    "    pred = clf.predict(X_test)\n",
    "    # calcular o resultado utilizando a acuracia\n",
    "    acuracia = acc(y_test,pred)\n",
    "\n",
    "\n",
    "    return acuracia\n"
   ]
  },
  {
   "attachments": {},
   "cell_type": "markdown",
   "metadata": {},
   "source": [
    "### XBR"
   ]
  },
  {
   "cell_type": "code",
   "execution_count": 5,
   "id": "287daf5a",
   "metadata": {},
   "outputs": [],
   "source": [
    "def classificationXBR(X, y):\n",
    "    X_train,X_test,y_train,y_test = train_test_split(X,y,train_size=0.7,shuffle=True)\n",
    "    # criar instancia do classificador\n",
    "    clf = xgb.XGBClassifier()\n",
    "    # treinar o classificador\n",
    "    clf.fit(X_train,y_train)\n",
    "    # realizar a predicao\n",
    "    pred = clf.predict(X_test)\n",
    "    # calcular o resultado utilizando a acuracia\n",
    "    acuracia = acc(y_test,pred)\n",
    "\n",
    "    return acuracia\n",
    "    "
   ]
  },
  {
   "attachments": {},
   "cell_type": "markdown",
   "metadata": {},
   "source": [
    "### Matriz"
   ]
  },
  {
   "cell_type": "code",
   "execution_count": 29,
   "id": "7f772fce",
   "metadata": {},
   "outputs": [],
   "source": [
    "# cria um array normal com os dados: media, variancia, skewness, kurtosis, energy, entropy\n",
    "def pegaMatrizAux(matriz):\n",
    "    atual = 0\n",
    "    cont = 733\n",
    "    aux = []\n",
    "    y = []\n",
    "    for i in matriz.values:\n",
    "        n = list(i)\n",
    "        if n[10] == atual:\n",
    "            aux.append([n[3], n[4], n[5], n[6], n[7], n[8]])\n",
    "            y.append(n[10])\n",
    "            cont -= 1\n",
    "        \n",
    "        if cont == 0:\n",
    "            atual += 1\n",
    "            cont = 733\n",
    "\n",
    "    return aux, y"
   ]
  },
  {
   "attachments": {},
   "cell_type": "markdown",
   "metadata": {},
   "source": [
    "### Leitura"
   ]
  },
  {
   "cell_type": "code",
   "execution_count": 6,
   "metadata": {},
   "outputs": [],
   "source": [
    "formulas = ['alongamento', 'logaritmo', 'potencia']"
   ]
  },
  {
   "cell_type": "code",
   "execution_count": 34,
   "metadata": {},
   "outputs": [],
   "source": [
    "def LinhaCSV(linha, Arquivo='classificacao.csv'):\n",
    "    # Ordem: formula,teste,mlp,randomForest,svm,xbr\n",
    "    with open(Arquivo, 'a') as csvFile:\n",
    "        writer = csv.writer(csvFile)\n",
    "        writer.writerow(linha)"
   ]
  },
  {
   "cell_type": "code",
   "execution_count": 35,
   "metadata": {},
   "outputs": [],
   "source": [
    "def pegaClassicacoes(matriz, y, f, teste):\n",
    "    mlp = classification(matriz, y)\n",
    "    forest = classificationForest(matriz, y)\n",
    "    svm = classificationSVM(matriz, y)\n",
    "    xbr = classificationXBR(matriz, y)\n",
    "    linha = [f, teste, mlp, forest, svm, xbr]\n",
    "    LinhaCSV(linha)"
   ]
  },
  {
   "cell_type": "code",
   "execution_count": 38,
   "metadata": {},
   "outputs": [],
   "source": [
    "for i in glob('matrizes/*'):\n",
    "    f = i.split('-')[1].split('.')[0]\n",
    "    teste = i.split('-')[2].split('.')[0]\n",
    "    arq = pd.read_csv(i)\n",
    "    matriz, y = pegaMatrizAux(arq) # pega a matriz de atributos\n",
    "    pegaClassicacoes(matriz, y, f, teste)"
   ]
  },
  {
   "cell_type": "code",
   "execution_count": null,
   "metadata": {},
   "outputs": [],
   "source": []
  }
 ],
 "metadata": {
  "kernelspec": {
   "display_name": "Python 3",
   "language": "python",
   "name": "python3"
  },
  "language_info": {
   "codemirror_mode": {
    "name": "ipython",
    "version": 3
   },
   "file_extension": ".py",
   "mimetype": "text/x-python",
   "name": "python",
   "nbconvert_exporter": "python",
   "pygments_lexer": "ipython3",
   "version": "3.8.10"
  },
  "orig_nbformat": 4,
  "vscode": {
   "interpreter": {
    "hash": "916dbcbb3f70747c44a77c7bcd40155683ae19c65e1c03b4aa3499c5328201f1"
   }
  }
 },
 "nbformat": 4,
 "nbformat_minor": 2
}
